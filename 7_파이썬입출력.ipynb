{
 "cells": [
  {
   "cell_type": "code",
   "execution_count": 3,
   "id": "0c74152d-b109-42b3-bb09-3fb914d00489",
   "metadata": {},
   "outputs": [
    {
     "name": "stdin",
     "output_type": "stream",
     "text": [
      " life is too short you need python\n"
     ]
    }
   ],
   "source": [
    "a=input()"
   ]
  },
  {
   "cell_type": "code",
   "execution_count": 4,
   "id": "c882c4ea-1dcf-47b4-957b-4ebdda498a91",
   "metadata": {},
   "outputs": [
    {
     "name": "stdout",
     "output_type": "stream",
     "text": [
      "life is too short you need python\n"
     ]
    }
   ],
   "source": [
    "print(a)"
   ]
  },
  {
   "cell_type": "code",
   "execution_count": 5,
   "id": "0dbc4ee1-e5e6-4de3-b129-d9a2635201de",
   "metadata": {},
   "outputs": [
    {
     "name": "stdin",
     "output_type": "stream",
     "text": [
      " 100\n"
     ]
    }
   ],
   "source": [
    "num=input()"
   ]
  },
  {
   "cell_type": "code",
   "execution_count": 6,
   "id": "f7303f40-7e71-4ec8-8e65-f1e2d1207f59",
   "metadata": {},
   "outputs": [
    {
     "name": "stdout",
     "output_type": "stream",
     "text": [
      "100\n"
     ]
    }
   ],
   "source": [
    "print(num)"
   ]
  },
  {
   "cell_type": "code",
   "execution_count": 11,
   "id": "8f2881ca-95ce-4dba-8b39-f96f57dcde7a",
   "metadata": {},
   "outputs": [
    {
     "data": {
      "text/plain": [
       "str"
      ]
     },
     "execution_count": 11,
     "metadata": {},
     "output_type": "execute_result"
    }
   ],
   "source": [
    "type(num)"
   ]
  },
  {
   "cell_type": "code",
   "execution_count": 12,
   "id": "b553878a-ec61-476b-8979-30a31c2ea2ab",
   "metadata": {},
   "outputs": [
    {
     "name": "stdout",
     "output_type": "stream",
     "text": [
      "123\n",
      "python\n",
      "[1, 2, 3]\n"
     ]
    }
   ],
   "source": [
    "a=123\n",
    "print(a)\n",
    "b='python'\n",
    "print(b)\n",
    "c=[1,2,3]\n",
    "print(c)"
   ]
  },
  {
   "cell_type": "code",
   "execution_count": 14,
   "id": "80790bda-db0b-48a9-bc9f-5cf74e708a89",
   "metadata": {},
   "outputs": [
    {
     "name": "stdout",
     "output_type": "stream",
     "text": [
      "lifeistoo short\n"
     ]
    }
   ],
   "source": [
    "print(\"life\"\"is\"\"too short\")"
   ]
  },
  {
   "cell_type": "code",
   "execution_count": 15,
   "id": "df5254a5-f3d2-457f-b90d-ef2a9f2b4568",
   "metadata": {},
   "outputs": [
    {
     "name": "stdout",
     "output_type": "stream",
     "text": [
      "life is too short\n"
     ]
    }
   ],
   "source": [
    "print(\"life\",\"is\",\"too short\")"
   ]
  },
  {
   "cell_type": "code",
   "execution_count": 16,
   "id": "7683bb63-be55-4ac1-a347-69dd293ea505",
   "metadata": {},
   "outputs": [
    {
     "name": "stdout",
     "output_type": "stream",
     "text": [
      "0\n",
      "1\n",
      "2\n",
      "3\n",
      "4\n",
      "5\n",
      "6\n",
      "7\n",
      "8\n",
      "9\n"
     ]
    }
   ],
   "source": [
    "for i in range(10):\n",
    "    print(i)"
   ]
  },
  {
   "cell_type": "code",
   "execution_count": 2,
   "id": "90695694-d532-47ab-9669-8cd871f94bea",
   "metadata": {},
   "outputs": [
    {
     "name": "stdout",
     "output_type": "stream",
     "text": [
      "0 1 2 3 4 5 6 7 8 9 "
     ]
    }
   ],
   "source": [
    "for i in range(10):\n",
    "    print(i, end=\" \")"
   ]
  },
  {
   "cell_type": "code",
   "execution_count": null,
   "id": "b642558b-c436-497c-a532-6e7aa40c9d3a",
   "metadata": {},
   "outputs": [],
   "source": []
  }
 ],
 "metadata": {
  "kernelspec": {
   "display_name": "Python [conda env:anaconda3]",
   "language": "python",
   "name": "conda-env-anaconda3-py"
  },
  "language_info": {
   "codemirror_mode": {
    "name": "ipython",
    "version": 3
   },
   "file_extension": ".py",
   "mimetype": "text/x-python",
   "name": "python",
   "nbconvert_exporter": "python",
   "pygments_lexer": "ipython3",
   "version": "3.13.5"
  }
 },
 "nbformat": 4,
 "nbformat_minor": 5
}

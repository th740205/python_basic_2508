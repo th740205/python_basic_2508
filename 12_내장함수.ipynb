{
 "cells": [
  {
   "cell_type": "code",
   "execution_count": 1,
   "id": "3f39072b-09e9-4285-b3a0-29f971c746fb",
   "metadata": {},
   "outputs": [
    {
     "name": "stdout",
     "output_type": "stream",
     "text": [
      "3\n",
      "3\n"
     ]
    }
   ],
   "source": [
    "print(abs(3))\n",
    "print(abs(-3))"
   ]
  },
  {
   "cell_type": "code",
   "execution_count": 3,
   "id": "d535efc7-50f5-4f8b-925e-1b2342da7f02",
   "metadata": {},
   "outputs": [
    {
     "data": {
      "text/plain": [
       "True"
      ]
     },
     "execution_count": 3,
     "metadata": {},
     "output_type": "execute_result"
    }
   ],
   "source": [
    "all([1,2,3])"
   ]
  },
  {
   "cell_type": "code",
   "execution_count": 4,
   "id": "404dd76c-9c8b-4fbd-b6d9-a2ff7010bbdf",
   "metadata": {},
   "outputs": [
    {
     "data": {
      "text/plain": [
       "False"
      ]
     },
     "execution_count": 4,
     "metadata": {},
     "output_type": "execute_result"
    }
   ],
   "source": [
    "all((1,[],\" \"))"
   ]
  },
  {
   "cell_type": "code",
   "execution_count": 5,
   "id": "b72757b1-60a9-4d52-8b2b-2b8b97e05750",
   "metadata": {},
   "outputs": [
    {
     "data": {
      "text/plain": [
       "True"
      ]
     },
     "execution_count": 5,
     "metadata": {},
     "output_type": "execute_result"
    }
   ],
   "source": [
    "all([])"
   ]
  },
  {
   "cell_type": "code",
   "execution_count": 9,
   "id": "9ad9b192-2f34-43fd-9586-492aaa174cfb",
   "metadata": {},
   "outputs": [
    {
     "data": {
      "text/plain": [
       "False"
      ]
     },
     "execution_count": 9,
     "metadata": {},
     "output_type": "execute_result"
    }
   ],
   "source": [
    "all((0,1,2,3))"
   ]
  },
  {
   "cell_type": "code",
   "execution_count": 11,
   "id": "f006fa42-14ca-412e-ba75-7cf6d0af04c1",
   "metadata": {},
   "outputs": [
    {
     "data": {
      "text/plain": [
       "True"
      ]
     },
     "execution_count": 11,
     "metadata": {},
     "output_type": "execute_result"
    }
   ],
   "source": [
    "all(\"\")"
   ]
  },
  {
   "cell_type": "code",
   "execution_count": 10,
   "id": "afef7248-087e-45bc-a256-e6100af8588e",
   "metadata": {},
   "outputs": [
    {
     "data": {
      "text/plain": [
       "True"
      ]
     },
     "execution_count": 10,
     "metadata": {},
     "output_type": "execute_result"
    }
   ],
   "source": [
    "any([1,0])"
   ]
  },
  {
   "cell_type": "code",
   "execution_count": 13,
   "id": "91553d0d-97d1-4452-ab87-5be4819fe56c",
   "metadata": {},
   "outputs": [
    {
     "data": {
      "text/plain": [
       "False"
      ]
     },
     "execution_count": 13,
     "metadata": {},
     "output_type": "execute_result"
    }
   ],
   "source": [
    "any([0,\"\"])"
   ]
  },
  {
   "cell_type": "code",
   "execution_count": 14,
   "id": "37d0b8a5-6c66-49f6-8f5b-0aed6a5b306d",
   "metadata": {},
   "outputs": [
    {
     "data": {
      "text/plain": [
       "False"
      ]
     },
     "execution_count": 14,
     "metadata": {},
     "output_type": "execute_result"
    }
   ],
   "source": [
    "any([])"
   ]
  },
  {
   "cell_type": "code",
   "execution_count": 16,
   "id": "e8620d09-7ffa-45f7-acdb-9acd13db91c5",
   "metadata": {},
   "outputs": [
    {
     "data": {
      "text/plain": [
       "'a'"
      ]
     },
     "execution_count": 16,
     "metadata": {},
     "output_type": "execute_result"
    }
   ],
   "source": [
    "chr(97)"
   ]
  },
  {
   "cell_type": "code",
   "execution_count": 17,
   "id": "640841ce-b607-4125-ad41-bee4f893d113",
   "metadata": {},
   "outputs": [
    {
     "data": {
      "text/plain": [
       "'A'"
      ]
     },
     "execution_count": 17,
     "metadata": {},
     "output_type": "execute_result"
    }
   ],
   "source": [
    "chr(65)"
   ]
  },
  {
   "cell_type": "code",
   "execution_count": 18,
   "id": "3ffce77c-562d-48c9-86a9-4a5dee76549b",
   "metadata": {},
   "outputs": [
    {
     "data": {
      "text/plain": [
       "'가'"
      ]
     },
     "execution_count": 18,
     "metadata": {},
     "output_type": "execute_result"
    }
   ],
   "source": [
    "chr(44032)"
   ]
  },
  {
   "cell_type": "code",
   "execution_count": 20,
   "id": "13b6f80c-9e47-4f1b-8020-c4492434248e",
   "metadata": {},
   "outputs": [
    {
     "data": {
      "text/plain": [
       "'각'"
      ]
     },
     "execution_count": 20,
     "metadata": {},
     "output_type": "execute_result"
    }
   ],
   "source": [
    "chr(44033)"
   ]
  },
  {
   "cell_type": "code",
   "execution_count": 23,
   "id": "f8821df9-9997-4dcb-bf7e-b3a59b83600b",
   "metadata": {},
   "outputs": [
    {
     "data": {
      "text/plain": [
       "['__add__',\n",
       " '__class__',\n",
       " '__class_getitem__',\n",
       " '__contains__',\n",
       " '__delattr__',\n",
       " '__delitem__',\n",
       " '__dir__',\n",
       " '__doc__',\n",
       " '__eq__',\n",
       " '__format__',\n",
       " '__ge__',\n",
       " '__getattribute__',\n",
       " '__getitem__',\n",
       " '__getstate__',\n",
       " '__gt__',\n",
       " '__hash__',\n",
       " '__iadd__',\n",
       " '__imul__',\n",
       " '__init__',\n",
       " '__init_subclass__',\n",
       " '__iter__',\n",
       " '__le__',\n",
       " '__len__',\n",
       " '__lt__',\n",
       " '__mul__',\n",
       " '__ne__',\n",
       " '__new__',\n",
       " '__reduce__',\n",
       " '__reduce_ex__',\n",
       " '__repr__',\n",
       " '__reversed__',\n",
       " '__rmul__',\n",
       " '__setattr__',\n",
       " '__setitem__',\n",
       " '__sizeof__',\n",
       " '__str__',\n",
       " '__subclasshook__',\n",
       " 'append',\n",
       " 'clear',\n",
       " 'copy',\n",
       " 'count',\n",
       " 'extend',\n",
       " 'index',\n",
       " 'insert',\n",
       " 'pop',\n",
       " 'remove',\n",
       " 'reverse',\n",
       " 'sort']"
      ]
     },
     "execution_count": 23,
     "metadata": {},
     "output_type": "execute_result"
    }
   ],
   "source": [
    "dir([1,2,3])"
   ]
  },
  {
   "cell_type": "code",
   "execution_count": 22,
   "id": "acfe265f-d606-4a51-9478-2ca81bb4524f",
   "metadata": {},
   "outputs": [
    {
     "data": {
      "text/plain": [
       "['__add__',\n",
       " '__class__',\n",
       " '__contains__',\n",
       " '__delattr__',\n",
       " '__dir__',\n",
       " '__doc__',\n",
       " '__eq__',\n",
       " '__format__',\n",
       " '__ge__',\n",
       " '__getattribute__',\n",
       " '__getitem__',\n",
       " '__getnewargs__',\n",
       " '__getstate__',\n",
       " '__gt__',\n",
       " '__hash__',\n",
       " '__init__',\n",
       " '__init_subclass__',\n",
       " '__iter__',\n",
       " '__le__',\n",
       " '__len__',\n",
       " '__lt__',\n",
       " '__mod__',\n",
       " '__mul__',\n",
       " '__ne__',\n",
       " '__new__',\n",
       " '__reduce__',\n",
       " '__reduce_ex__',\n",
       " '__repr__',\n",
       " '__rmod__',\n",
       " '__rmul__',\n",
       " '__setattr__',\n",
       " '__sizeof__',\n",
       " '__str__',\n",
       " '__subclasshook__',\n",
       " 'capitalize',\n",
       " 'casefold',\n",
       " 'center',\n",
       " 'count',\n",
       " 'encode',\n",
       " 'endswith',\n",
       " 'expandtabs',\n",
       " 'find',\n",
       " 'format',\n",
       " 'format_map',\n",
       " 'index',\n",
       " 'isalnum',\n",
       " 'isalpha',\n",
       " 'isascii',\n",
       " 'isdecimal',\n",
       " 'isdigit',\n",
       " 'isidentifier',\n",
       " 'islower',\n",
       " 'isnumeric',\n",
       " 'isprintable',\n",
       " 'isspace',\n",
       " 'istitle',\n",
       " 'isupper',\n",
       " 'join',\n",
       " 'ljust',\n",
       " 'lower',\n",
       " 'lstrip',\n",
       " 'maketrans',\n",
       " 'partition',\n",
       " 'removeprefix',\n",
       " 'removesuffix',\n",
       " 'replace',\n",
       " 'rfind',\n",
       " 'rindex',\n",
       " 'rjust',\n",
       " 'rpartition',\n",
       " 'rsplit',\n",
       " 'rstrip',\n",
       " 'split',\n",
       " 'splitlines',\n",
       " 'startswith',\n",
       " 'strip',\n",
       " 'swapcase',\n",
       " 'title',\n",
       " 'translate',\n",
       " 'upper',\n",
       " 'zfill']"
      ]
     },
     "execution_count": 22,
     "metadata": {},
     "output_type": "execute_result"
    }
   ],
   "source": [
    "dir(\"\")"
   ]
  },
  {
   "cell_type": "code",
   "execution_count": 25,
   "id": "eb3f069a-9137-4e76-adc7-4d823cff8dbf",
   "metadata": {},
   "outputs": [
    {
     "data": {
      "text/plain": [
       "(2, 1)"
      ]
     },
     "execution_count": 25,
     "metadata": {},
     "output_type": "execute_result"
    }
   ],
   "source": [
    "divmod(7,3)"
   ]
  },
  {
   "cell_type": "code",
   "execution_count": 26,
   "id": "f478209a-1edd-4e05-8f68-f697b1db58eb",
   "metadata": {},
   "outputs": [
    {
     "name": "stdout",
     "output_type": "stream",
     "text": [
      "0 body\n",
      "1 foo\n",
      "2 bar\n"
     ]
    }
   ],
   "source": [
    "for i,name in enumerate(['body','foo','bar']):\n",
    "    print(i,name)"
   ]
  },
  {
   "cell_type": "code",
   "execution_count": 30,
   "id": "4a2ddc3a-87ed-4b83-ba0e-ad970b33d997",
   "metadata": {},
   "outputs": [
    {
     "name": "stdout",
     "output_type": "stream",
     "text": [
      "0 a\n",
      "<class 'int'>\n",
      "1 b\n",
      "<class 'int'>\n",
      "2 c\n",
      "<class 'int'>\n"
     ]
    }
   ],
   "source": [
    "for i,k in enumerate({'a':1,'b':2,'c':3}):\n",
    "    print(i,k)\n",
    "    print(type(i))"
   ]
  },
  {
   "cell_type": "code",
   "execution_count": 31,
   "id": "8c8e424e-e3cc-4e98-b52f-3d0abd22e39f",
   "metadata": {},
   "outputs": [
    {
     "name": "stdout",
     "output_type": "stream",
     "text": [
      "1+2\n"
     ]
    }
   ],
   "source": [
    "print(\"1+2\")"
   ]
  },
  {
   "cell_type": "code",
   "execution_count": 33,
   "id": "7b9ddd66-124e-4af4-ba35-7755f0254744",
   "metadata": {},
   "outputs": [
    {
     "name": "stdout",
     "output_type": "stream",
     "text": [
      "3\n"
     ]
    }
   ],
   "source": [
    "print(eval(\"1+2\"))"
   ]
  },
  {
   "cell_type": "code",
   "execution_count": 34,
   "id": "3b93393d-c6c8-4409-b9d7-fee77b81c75c",
   "metadata": {},
   "outputs": [
    {
     "data": {
      "text/plain": [
       "'hia'"
      ]
     },
     "execution_count": 34,
     "metadata": {},
     "output_type": "execute_result"
    }
   ],
   "source": [
    "eval(\"'hi'+'a'\")"
   ]
  },
  {
   "cell_type": "code",
   "execution_count": 35,
   "id": "8af18f67-9912-41df-9a62-c9a0b0bba3e1",
   "metadata": {},
   "outputs": [
    {
     "ename": "SyntaxError",
     "evalue": "invalid syntax (<string>, line 1)",
     "output_type": "error",
     "traceback": [
      "Traceback \u001b[1;36m(most recent call last)\u001b[0m:\n",
      "\u001b[0m  File \u001b[0;32mC:\\ProgramData\\anaconda3\\Lib\\site-packages\\IPython\\core\\interactiveshell.py:3577\u001b[0m in \u001b[0;35mrun_code\u001b[0m\n    exec(code_obj, self.user_global_ns, self.user_ns)\u001b[0m\n",
      "\u001b[1;36m  Cell \u001b[1;32mIn[35], line 1\u001b[1;36m\n\u001b[1;33m    eval('while True: pass')\u001b[1;36m\n",
      "\u001b[1;36m  File \u001b[1;32m<string>:1\u001b[1;36m\u001b[0m\n\u001b[1;33m    while True: pass\u001b[0m\n\u001b[1;37m    ^\u001b[0m\n\u001b[1;31mSyntaxError\u001b[0m\u001b[1;31m:\u001b[0m invalid syntax\n"
     ]
    }
   ],
   "source": [
    "eval('while True: pass')"
   ]
  },
  {
   "cell_type": "code",
   "execution_count": 42,
   "id": "6e78afce-5594-42b1-9f8a-b4ee9585ea0d",
   "metadata": {},
   "outputs": [
    {
     "name": "stdout",
     "output_type": "stream",
     "text": [
      "[1, 2, 6]\n"
     ]
    }
   ],
   "source": [
    "def positive(list):\n",
    "    result =[]\n",
    "    for i in list:\n",
    "       if i>0:\n",
    "        result.append(i)\n",
    "    return result\n",
    "print(positive([1,-3,2,0,-5,6]))"
   ]
  },
  {
   "cell_type": "code",
   "execution_count": 46,
   "id": "83888f9b-0021-4194-a549-2aae054ce00f",
   "metadata": {},
   "outputs": [
    {
     "name": "stdout",
     "output_type": "stream",
     "text": [
      "[1, 2, 6]\n"
     ]
    }
   ],
   "source": [
    "def positive(x):\n",
    "    return x>0\n",
    "print(list(filter(positive,[1,-3,2,0,-5,6])))"
   ]
  },
  {
   "cell_type": "code",
   "execution_count": 45,
   "id": "05a0f25f-f4b7-4e86-a430-0dda4b7a4664",
   "metadata": {},
   "outputs": [
    {
     "data": {
      "text/plain": [
       "[1, 2, 6]"
      ]
     },
     "execution_count": 45,
     "metadata": {},
     "output_type": "execute_result"
    }
   ],
   "source": [
    "list(filter(lambda x:x>0,[1,-3,2,0,-5,6]))"
   ]
  },
  {
   "cell_type": "code",
   "execution_count": 49,
   "id": "9fed0f35-3ce5-4d50-8ff2-2146d1d2f1b7",
   "metadata": {},
   "outputs": [
    {
     "name": "stdout",
     "output_type": "stream",
     "text": [
      "[2, 4, 6, 8]\n"
     ]
    }
   ],
   "source": [
    "def two_times(list):\n",
    "    result=[]\n",
    "    for i in list:\n",
    "        result.append(i*2)\n",
    "    return result\n",
    "print(two_times([1,2,3,4]))\n",
    "    \n",
    "    "
   ]
  },
  {
   "cell_type": "code",
   "execution_count": 54,
   "id": "16728506-0d7d-445c-bb32-41efc4ebcbfb",
   "metadata": {},
   "outputs": [
    {
     "data": {
      "text/plain": [
       "[2, 4, 6, 8]"
      ]
     },
     "execution_count": 54,
     "metadata": {},
     "output_type": "execute_result"
    }
   ],
   "source": [
    "def two_times(x):\n",
    "    return x*2\n",
    "list(map(two_times,[1,2,3,4]))"
   ]
  },
  {
   "cell_type": "code",
   "execution_count": 56,
   "id": "c355e794-13f3-489b-bb0d-bf237058862b",
   "metadata": {},
   "outputs": [
    {
     "name": "stdout",
     "output_type": "stream",
     "text": [
      "0xea\n",
      "0x3\n",
      "0xd\n"
     ]
    }
   ],
   "source": [
    "print(hex(234))\n",
    "print(hex(3))\n",
    "print(hex(13))"
   ]
  },
  {
   "cell_type": "code",
   "execution_count": 58,
   "id": "fbaac266-a7ad-4d25-81a0-73bc90481323",
   "metadata": {},
   "outputs": [],
   "source": [
    "a=3"
   ]
  },
  {
   "cell_type": "code",
   "execution_count": 59,
   "id": "199c2765-431e-46ec-8c75-715ffd0dc6c7",
   "metadata": {},
   "outputs": [
    {
     "data": {
      "text/plain": [
       "140719593010152"
      ]
     },
     "execution_count": 59,
     "metadata": {},
     "output_type": "execute_result"
    }
   ],
   "source": [
    "id(a)"
   ]
  },
  {
   "cell_type": "code",
   "execution_count": 60,
   "id": "3f7e7e46-a09f-42d7-b8ea-e301b3c94463",
   "metadata": {},
   "outputs": [
    {
     "name": "stdout",
     "output_type": "stream",
     "text": [
      "True\n"
     ]
    }
   ],
   "source": [
    "class Person:\n",
    "    pass\n",
    "a=Person()\n",
    "print(isinstance(a,Person))"
   ]
  },
  {
   "cell_type": "code",
   "execution_count": 61,
   "id": "6c4c8d41-a1c1-478a-8c15-c1031bd1d279",
   "metadata": {},
   "outputs": [
    {
     "data": {
      "text/plain": [
       "False"
      ]
     },
     "execution_count": 61,
     "metadata": {},
     "output_type": "execute_result"
    }
   ],
   "source": [
    "b=3\n",
    "isinstance(b,Person)"
   ]
  },
  {
   "cell_type": "code",
   "execution_count": 63,
   "id": "d60570df-2adf-41b7-b7b3-58671aecfbb3",
   "metadata": {},
   "outputs": [
    {
     "name": "stdout",
     "output_type": "stream",
     "text": [
      "3\n",
      "y\n",
      "3\n"
     ]
    }
   ],
   "source": [
    "print(max([1,2,3]))\n",
    "print(max('python'))\n",
    "print(max([1,2,3]))"
   ]
  },
  {
   "cell_type": "code",
   "execution_count": 64,
   "id": "78a5eb70-b3c5-410d-a861-50cc3a351d21",
   "metadata": {},
   "outputs": [
    {
     "name": "stdout",
     "output_type": "stream",
     "text": [
      "1\n",
      "h\n"
     ]
    }
   ],
   "source": [
    "print(min([1,2,3]))\n",
    "print(min('python'))"
   ]
  },
  {
   "cell_type": "code",
   "execution_count": 66,
   "id": "6f4fa64f-20f6-443b-8ea1-10e273abe5a5",
   "metadata": {},
   "outputs": [
    {
     "name": "stdout",
     "output_type": "stream",
     "text": [
      "0o11\n"
     ]
    }
   ],
   "source": [
    "print(oct(9))"
   ]
  },
  {
   "cell_type": "code",
   "execution_count": 69,
   "id": "6277bd73-d81c-4213-ba69-64ff1bcd8112",
   "metadata": {},
   "outputs": [
    {
     "name": "stdout",
     "output_type": "stream",
     "text": [
      "97\n"
     ]
    }
   ],
   "source": [
    "print(ord('a'))"
   ]
  },
  {
   "cell_type": "code",
   "execution_count": 71,
   "id": "7cd61795-6a4e-45c1-9b2a-3aa2dc89f5c4",
   "metadata": {},
   "outputs": [
    {
     "data": {
      "text/plain": [
       "1024"
      ]
     },
     "execution_count": 71,
     "metadata": {},
     "output_type": "execute_result"
    }
   ],
   "source": [
    "pow(2,10)"
   ]
  },
  {
   "cell_type": "code",
   "execution_count": 72,
   "id": "375620c1-a52b-476a-a413-afec52b78bc4",
   "metadata": {},
   "outputs": [
    {
     "data": {
      "text/plain": [
       "[0, 1, 2, 3, 4]"
      ]
     },
     "execution_count": 72,
     "metadata": {},
     "output_type": "execute_result"
    }
   ],
   "source": [
    "list(range(5))"
   ]
  },
  {
   "cell_type": "code",
   "execution_count": 73,
   "id": "9607bb9e-45d1-4378-b9b1-2fcd33f1e4f7",
   "metadata": {},
   "outputs": [
    {
     "data": {
      "text/plain": [
       "[5, 6, 7, 8, 9]"
      ]
     },
     "execution_count": 73,
     "metadata": {},
     "output_type": "execute_result"
    }
   ],
   "source": [
    "list(range(5,10))"
   ]
  },
  {
   "cell_type": "code",
   "execution_count": 74,
   "id": "b3a26a9a-b12b-48f0-9634-4abf029e2975",
   "metadata": {},
   "outputs": [
    {
     "data": {
      "text/plain": [
       "[1, 3, 5, 7, 9]"
      ]
     },
     "execution_count": 74,
     "metadata": {},
     "output_type": "execute_result"
    }
   ],
   "source": [
    "list(range(1,10,2))"
   ]
  },
  {
   "cell_type": "code",
   "execution_count": 75,
   "id": "bc00de00-1608-4ea2-b606-5c287ccca56d",
   "metadata": {},
   "outputs": [
    {
     "data": {
      "text/plain": [
       "[0, -1, -2, -3, -4, -5, -6, -7, -8, -9]"
      ]
     },
     "execution_count": 75,
     "metadata": {},
     "output_type": "execute_result"
    }
   ],
   "source": [
    "list(range(0,-10,-1))"
   ]
  },
  {
   "cell_type": "code",
   "execution_count": 77,
   "id": "0d0238bf-be5c-42da-95ee-740fda87bf02",
   "metadata": {},
   "outputs": [
    {
     "data": {
      "text/plain": [
       "5"
      ]
     },
     "execution_count": 77,
     "metadata": {},
     "output_type": "execute_result"
    }
   ],
   "source": [
    "round(4.6)"
   ]
  },
  {
   "cell_type": "code",
   "execution_count": 86,
   "id": "a7bab491-8d8c-4a51-9423-f4ad26e1e41e",
   "metadata": {},
   "outputs": [
    {
     "data": {
      "text/plain": [
       "['a', 'b', 'c']"
      ]
     },
     "execution_count": 86,
     "metadata": {},
     "output_type": "execute_result"
    }
   ],
   "source": [
    "sorted((['c','a','b']))"
   ]
  },
  {
   "cell_type": "code",
   "execution_count": 79,
   "id": "0ae83ad1-f75c-414d-acf1-68276943ddd7",
   "metadata": {},
   "outputs": [
    {
     "data": {
      "text/plain": [
       "[1, 2, 3]"
      ]
     },
     "execution_count": 79,
     "metadata": {},
     "output_type": "execute_result"
    }
   ],
   "source": [
    "sorted([3,1,2])"
   ]
  },
  {
   "cell_type": "code",
   "execution_count": 80,
   "id": "3b1a4db1-5e82-4d55-ad68-695c96a01592",
   "metadata": {},
   "outputs": [
    {
     "data": {
      "text/plain": [
       "['e', 'o', 'r', 'z']"
      ]
     },
     "execution_count": 80,
     "metadata": {},
     "output_type": "execute_result"
    }
   ],
   "source": [
    "sorted('zero')"
   ]
  },
  {
   "cell_type": "code",
   "execution_count": 83,
   "id": "52baf629-a319-4391-99ca-ef692d05d234",
   "metadata": {},
   "outputs": [
    {
     "data": {
      "text/plain": [
       "[(1, 4), (2, 5), (3, 6)]"
      ]
     },
     "execution_count": 83,
     "metadata": {},
     "output_type": "execute_result"
    }
   ],
   "source": [
    "list(zip([1,2,3],[4,5,6]))"
   ]
  },
  {
   "cell_type": "code",
   "execution_count": 89,
   "id": "7a4f40c0-f96d-4f96-bf67-3762c05adb96",
   "metadata": {},
   "outputs": [
    {
     "data": {
      "text/plain": [
       "((1, 4), (2, 5), (3, 6))"
      ]
     },
     "execution_count": 89,
     "metadata": {},
     "output_type": "execute_result"
    }
   ],
   "source": [
    "tuple(zip([1,2,3],[4,5,6]))"
   ]
  },
  {
   "cell_type": "code",
   "execution_count": null,
   "id": "8ef9f195-6a96-4181-97ef-adfcb89707c2",
   "metadata": {},
   "outputs": [],
   "source": []
  }
 ],
 "metadata": {
  "kernelspec": {
   "display_name": "Python [conda env:anaconda3]",
   "language": "python",
   "name": "conda-env-anaconda3-py"
  },
  "language_info": {
   "codemirror_mode": {
    "name": "ipython",
    "version": 3
   },
   "file_extension": ".py",
   "mimetype": "text/x-python",
   "name": "python",
   "nbconvert_exporter": "python",
   "pygments_lexer": "ipython3",
   "version": "3.13.5"
  }
 },
 "nbformat": 4,
 "nbformat_minor": 5
}

{
 "cells": [
  {
   "cell_type": "markdown",
   "id": "aeee23ff-48d7-4385-a1c5-d840d6d0edab",
   "metadata": {},
   "source": [
    "## 3-2자료형 문자열"
   ]
  },
  {
   "cell_type": "code",
   "execution_count": 1,
   "id": "c618544a-4206-4444-b6db-e635bbfa49db",
   "metadata": {},
   "outputs": [
    {
     "name": "stdout",
     "output_type": "stream",
     "text": [
      "python's favorite food is perl\n",
      "<class 'str'>\n"
     ]
    }
   ],
   "source": [
    "food=\"python's favorite food is perl\"\n",
    "print(food)\n",
    "print(type(food))"
   ]
  },
  {
   "cell_type": "code",
   "execution_count": 2,
   "id": "1ed53abb-ffa9-424a-849d-ad354988492c",
   "metadata": {},
   "outputs": [
    {
     "name": "stdout",
     "output_type": "stream",
     "text": [
      "python's favorite food is perl\n",
      "<class 'str'>\n"
     ]
    }
   ],
   "source": [
    "food='python\\'s favorite food is perl'\n",
    "print(food)\n",
    "print(type(food))\n",
    "\n",
    "\n"
   ]
  },
  {
   "cell_type": "code",
   "execution_count": 5,
   "id": "3c6864e8-58eb-4ae1-973a-df84262221ea",
   "metadata": {},
   "outputs": [
    {
     "data": {
      "text/plain": [
       "'\"python is very easy.\" he says.'"
      ]
     },
     "execution_count": 5,
     "metadata": {},
     "output_type": "execute_result"
    }
   ],
   "source": [
    "say = '\"python is very easy.\" he says.'\n",
    "say"
   ]
  },
  {
   "cell_type": "code",
   "execution_count": 7,
   "id": "f5dc5ed9-b7f1-4615-8457-0df99f5a937b",
   "metadata": {},
   "outputs": [
    {
     "data": {
      "text/plain": [
       "'\"python is very easy.\" he says.'"
      ]
     },
     "execution_count": 7,
     "metadata": {},
     "output_type": "execute_result"
    }
   ],
   "source": [
    "say = \"\\\"python is very easy.\\\" he says.\"\n",
    "say"
   ]
  },
  {
   "cell_type": "markdown",
   "id": "0fdf99b7-5f88-4bd0-a39a-b6d1acf32635",
   "metadata": {},
   "source": [
    "### 열어출 문자열"
   ]
  },
  {
   "cell_type": "code",
   "execution_count": 9,
   "id": "d8424405-8b29-424f-8c49-085a3bea9f98",
   "metadata": {},
   "outputs": [
    {
     "name": "stdout",
     "output_type": "stream",
     "text": [
      "ilfe is to short you need python\n"
     ]
    }
   ],
   "source": [
    "multiline =\"ilfe is to short you need python\"\n",
    "print(multiline)"
   ]
  },
  {
   "cell_type": "markdown",
   "id": "ac999f31-b426-43c1-b653-45c2ef250c31",
   "metadata": {},
   "source": [
    "### 문자열 연산"
   ]
  },
  {
   "cell_type": "code",
   "execution_count": 10,
   "id": "69875f51-1181-4448-bfd8-736d04258fd0",
   "metadata": {},
   "outputs": [
    {
     "data": {
      "text/plain": [
       "'pythonis fun!'"
      ]
     },
     "execution_count": 10,
     "metadata": {},
     "output_type": "execute_result"
    }
   ],
   "source": [
    "head = \"python\"\n",
    "tail = \"is fun!\"\n",
    "head+tail"
   ]
  },
  {
   "cell_type": "code",
   "execution_count": 11,
   "id": "827448a7-2e3d-484c-b384-2dfa504de353",
   "metadata": {},
   "outputs": [
    {
     "name": "stdout",
     "output_type": "stream",
     "text": [
      "pythonpython\n",
      "pythonpython\n"
     ]
    }
   ],
   "source": [
    "a=\"python\"\n",
    "print(a*2)\n",
    "print(a*2)"
   ]
  },
  {
   "cell_type": "markdown",
   "id": "11cbebdb-9bc0-4a78-83fc-3bb7b0252b77",
   "metadata": {},
   "source": [
    "### 문자열 길이 구하기"
   ]
  },
  {
   "cell_type": "code",
   "execution_count": 12,
   "id": "3b6864fc-7876-49c8-b829-96782c0fdcb1",
   "metadata": {},
   "outputs": [
    {
     "data": {
      "text/plain": [
       "6"
      ]
     },
     "execution_count": 12,
     "metadata": {},
     "output_type": "execute_result"
    }
   ],
   "source": [
    "a= \"python\"\n",
    "len(a)"
   ]
  },
  {
   "cell_type": "markdown",
   "id": "7a95c0c9-559b-4cae-ae37-635dac60fb08",
   "metadata": {},
   "source": [
    "# 문자열 인덱싱"
   ]
  },
  {
   "cell_type": "code",
   "execution_count": 13,
   "id": "a3dd22ed-61a4-45df-aead-9a04f658529c",
   "metadata": {},
   "outputs": [],
   "source": [
    "a=\"python\""
   ]
  },
  {
   "cell_type": "code",
   "execution_count": 14,
   "id": "2f93a3de-5e95-431d-b27f-65b07ee4e7c6",
   "metadata": {},
   "outputs": [
    {
     "data": {
      "text/plain": [
       "'p'"
      ]
     },
     "execution_count": 14,
     "metadata": {},
     "output_type": "execute_result"
    }
   ],
   "source": [
    "a[0]"
   ]
  },
  {
   "cell_type": "code",
   "execution_count": 15,
   "id": "f368c74a-8fe9-4f89-9ecf-d02273853f95",
   "metadata": {},
   "outputs": [
    {
     "data": {
      "text/plain": [
       "'n'"
      ]
     },
     "execution_count": 15,
     "metadata": {},
     "output_type": "execute_result"
    }
   ],
   "source": [
    "a[-1]"
   ]
  },
  {
   "cell_type": "code",
   "execution_count": 17,
   "id": "93192d5b-4786-4d74-adf4-976bc4f4bdea",
   "metadata": {},
   "outputs": [
    {
     "data": {
      "text/plain": [
       "'h'"
      ]
     },
     "execution_count": 17,
     "metadata": {},
     "output_type": "execute_result"
    }
   ],
   "source": [
    "a[-3] # 뒤에서 세번째"
   ]
  },
  {
   "cell_type": "markdown",
   "id": "0740340c-3001-4520-976e-e54f95ec56a4",
   "metadata": {},
   "source": [
    "### 문자열 슬라이싱"
   ]
  },
  {
   "cell_type": "code",
   "execution_count": 19,
   "id": "6aba8dc7-6622-4aef-af9d-7889c982d79a",
   "metadata": {},
   "outputs": [
    {
     "name": "stdout",
     "output_type": "stream",
     "text": [
      "pyth\n"
     ]
    }
   ],
   "source": [
    "b=a[0:4]\n",
    "print(b)"
   ]
  },
  {
   "cell_type": "code",
   "execution_count": 20,
   "id": "45a9da20-c0ee-42df-bb31-e3eaecf1b960",
   "metadata": {},
   "outputs": [
    {
     "name": "stdout",
     "output_type": "stream",
     "text": [
      "<class 'str'>\n"
     ]
    }
   ],
   "source": [
    "a=\"123\"\n",
    "print(type(a))"
   ]
  },
  {
   "cell_type": "code",
   "execution_count": 21,
   "id": "af39fdc4-d0da-4f96-8bbe-5faf686cca03",
   "metadata": {},
   "outputs": [
    {
     "ename": "TypeError",
     "evalue": "unsupported operand type(s) for /: 'str' and 'str'",
     "output_type": "error",
     "traceback": [
      "\u001b[1;31m---------------------------------------------------------------------------\u001b[0m",
      "\u001b[1;31mTypeError\u001b[0m                                 Traceback (most recent call last)",
      "Cell \u001b[1;32mIn[21], line 2\u001b[0m\n\u001b[0;32m      1\u001b[0m b\u001b[38;5;241m=\u001b[39m\u001b[38;5;124m\"\u001b[39m\u001b[38;5;124m10\u001b[39m\u001b[38;5;124m\"\u001b[39m\n\u001b[1;32m----> 2\u001b[0m a\u001b[38;5;241m/\u001b[39mb\n",
      "\u001b[1;31mTypeError\u001b[0m: unsupported operand type(s) for /: 'str' and 'str'"
     ]
    }
   ],
   "source": [
    "b=\"10\"\n",
    "a/b"
   ]
  },
  {
   "cell_type": "markdown",
   "id": "30db95c0-6398-439d-856c-9c03332d6443",
   "metadata": {},
   "source": [
    "## python 문자열을 python으로 바꾸려면"
   ]
  },
  {
   "cell_type": "code",
   "execution_count": 4,
   "id": "9ddfc267-02b0-40c3-9df0-3bbcc2cbc1d2",
   "metadata": {},
   "outputs": [
    {
     "data": {
      "text/plain": [
       "'i'"
      ]
     },
     "execution_count": 4,
     "metadata": {},
     "output_type": "execute_result"
    }
   ],
   "source": [
    "a=\"pithon\"\n",
    "a[1]"
   ]
  },
  {
   "cell_type": "code",
   "execution_count": 6,
   "id": "b38429c2-2a0b-43fe-a0e2-858a9a2c5947",
   "metadata": {},
   "outputs": [
    {
     "ename": "TypeError",
     "evalue": "'str' object does not support item assignment",
     "output_type": "error",
     "traceback": [
      "\u001b[1;31m---------------------------------------------------------------------------\u001b[0m",
      "\u001b[1;31mTypeError\u001b[0m                                 Traceback (most recent call last)",
      "Cell \u001b[1;32mIn[6], line 1\u001b[0m\n\u001b[1;32m----> 1\u001b[0m a[\u001b[38;5;241m1\u001b[39m]\u001b[38;5;241m=\u001b[39m\u001b[38;5;124m\"\u001b[39m\u001b[38;5;124my\u001b[39m\u001b[38;5;124m\"\u001b[39m\n",
      "\u001b[1;31mTypeError\u001b[0m: 'str' object does not support item assignment"
     ]
    }
   ],
   "source": [
    "a[1]=\"y\""
   ]
  },
  {
   "cell_type": "code",
   "execution_count": 7,
   "id": "a8d9b883-aea6-4c60-9fa9-c24df0b1b2ce",
   "metadata": {},
   "outputs": [
    {
     "name": "stdout",
     "output_type": "stream",
     "text": [
      "def\n"
     ]
    }
   ],
   "source": [
    "b=\"abc\"\n",
    "b=\"def\"\n",
    "print(b)\n"
   ]
  },
  {
   "cell_type": "code",
   "execution_count": 8,
   "id": "c072082f-a8c6-4b7c-b8e2-f32ba36b1be2",
   "metadata": {},
   "outputs": [
    {
     "name": "stdout",
     "output_type": "stream",
     "text": [
      "pithon\n"
     ]
    }
   ],
   "source": [
    "print(a)"
   ]
  },
  {
   "cell_type": "code",
   "execution_count": 10,
   "id": "c1da987f-39ce-4bd1-b885-2d29e702b6a0",
   "metadata": {},
   "outputs": [
    {
     "name": "stdout",
     "output_type": "stream",
     "text": [
      "python\n"
     ]
    }
   ],
   "source": [
    "b=a[0]+\"y\"+a[2:]\n",
    "print(b)"
   ]
  },
  {
   "cell_type": "markdown",
   "id": "da3acb1d-5dfa-4441-b88a-633a3fb0be90",
   "metadata": {},
   "source": [
    "### 문자열 포메팅"
   ]
  },
  {
   "cell_type": "code",
   "execution_count": 11,
   "id": "b8bd80ca-f0f7-4994-a369-9828f7738cdf",
   "metadata": {},
   "outputs": [
    {
     "data": {
      "text/plain": [
       "'i eat 2 apples.'"
      ]
     },
     "execution_count": 11,
     "metadata": {},
     "output_type": "execute_result"
    }
   ],
   "source": [
    "\"i eat %d apples.\"%2"
   ]
  },
  {
   "cell_type": "code",
   "execution_count": 13,
   "id": "6349c869-cc8e-466d-bfec-e82cbec07503",
   "metadata": {},
   "outputs": [
    {
     "data": {
      "text/plain": [
       "'i eat abc apples.'"
      ]
     },
     "execution_count": 13,
     "metadata": {},
     "output_type": "execute_result"
    }
   ],
   "source": [
    "\"i eat %s apples.\"%\"abc\""
   ]
  },
  {
   "cell_type": "code",
   "execution_count": 14,
   "id": "7c9c705d-c9d6-4439-a30f-b7f854b9f11f",
   "metadata": {},
   "outputs": [
    {
     "data": {
      "text/plain": [
       "'i eat 5 apples.'"
      ]
     },
     "execution_count": 14,
     "metadata": {},
     "output_type": "execute_result"
    }
   ],
   "source": [
    "\"i eat %s apples.\"%\"5\""
   ]
  },
  {
   "cell_type": "code",
   "execution_count": 15,
   "id": "780c0c28-fd0b-4a9e-8169-ce3e863673cb",
   "metadata": {},
   "outputs": [
    {
     "data": {
      "text/plain": [
       "'i eat 3 apples.'"
      ]
     },
     "execution_count": 15,
     "metadata": {},
     "output_type": "execute_result"
    }
   ],
   "source": [
    "number=3\n",
    "\"i eat %d apples.\"%number"
   ]
  },
  {
   "cell_type": "code",
   "execution_count": 16,
   "id": "d72a41a0-430a-4e0f-a4ea-5741839e1321",
   "metadata": {},
   "outputs": [
    {
     "data": {
      "text/plain": [
       "'i eat 10 apples. so i was sick for three day.'"
      ]
     },
     "execution_count": 16,
     "metadata": {},
     "output_type": "execute_result"
    }
   ],
   "source": [
    "number=10\n",
    "day=\"three\"\n",
    "\"i eat %d apples. so i was sick for %s day.\" %(number,day)"
   ]
  },
  {
   "cell_type": "code",
   "execution_count": 18,
   "id": "e5db28f7-b76f-4816-a81e-c92ee9b21a7a",
   "metadata": {},
   "outputs": [
    {
     "data": {
      "text/plain": [
       "'error is 98%.'"
      ]
     },
     "execution_count": 18,
     "metadata": {},
     "output_type": "execute_result"
    }
   ],
   "source": [
    "# 포멧코드와 문자%를 같이 사용\n",
    "\"error is %d%%.\"%98"
   ]
  },
  {
   "cell_type": "code",
   "execution_count": 22,
   "id": "09edc831-d4bc-41d1-b9de-979bf2435a76",
   "metadata": {},
   "outputs": [
    {
     "data": {
      "text/plain": [
       "'        hi'"
      ]
     },
     "execution_count": 22,
     "metadata": {},
     "output_type": "execute_result"
    }
   ],
   "source": [
    "a=\"%10s\"%\"hi\"\n",
    "a"
   ]
  },
  {
   "cell_type": "code",
   "execution_count": 23,
   "id": "93f00966-dc5b-4048-8e06-ce6d66d54e7c",
   "metadata": {},
   "outputs": [
    {
     "data": {
      "text/plain": [
       "'hi        '"
      ]
     },
     "execution_count": 23,
     "metadata": {},
     "output_type": "execute_result"
    }
   ],
   "source": [
    "a=\"%-10s\"%\"hi\"\n",
    "a"
   ]
  },
  {
   "cell_type": "code",
   "execution_count": 24,
   "id": "792db9ec-be8f-4ee6-8b19-2ee7f78ffd48",
   "metadata": {},
   "outputs": [
    {
     "data": {
      "text/plain": [
       "10"
      ]
     },
     "execution_count": 24,
     "metadata": {},
     "output_type": "execute_result"
    }
   ],
   "source": [
    "len(a)"
   ]
  },
  {
   "cell_type": "code",
   "execution_count": 25,
   "id": "f785ee92-ee93-47e7-8b8e-80cbf4f019bb",
   "metadata": {},
   "outputs": [
    {
     "data": {
      "text/plain": [
       "'4.5679'"
      ]
     },
     "execution_count": 25,
     "metadata": {},
     "output_type": "execute_result"
    }
   ],
   "source": [
    "\"%0.4F\"%4.56789"
   ]
  },
  {
   "cell_type": "code",
   "execution_count": 27,
   "id": "20a02a96-21a8-4321-ad91-0fec5e0c31fb",
   "metadata": {},
   "outputs": [
    {
     "data": {
      "text/plain": [
       "'    4.5679'"
      ]
     },
     "execution_count": 27,
     "metadata": {},
     "output_type": "execute_result"
    }
   ],
   "source": [
    "f=\"%10.4F\"%4.56789123456798\n",
    "f"
   ]
  },
  {
   "cell_type": "code",
   "execution_count": 28,
   "id": "dbb26203-0956-4f3d-9ce1-4ce40b41cbf4",
   "metadata": {},
   "outputs": [
    {
     "data": {
      "text/plain": [
       "'i eat 3 apples.'"
      ]
     },
     "execution_count": 28,
     "metadata": {},
     "output_type": "execute_result"
    }
   ],
   "source": [
    "\"i eat {} apples.\".format(3)"
   ]
  },
  {
   "cell_type": "code",
   "execution_count": 29,
   "id": "2c2a8890-ecb5-41ae-a14d-3a476c27383b",
   "metadata": {},
   "outputs": [
    {
     "data": {
      "text/plain": [
       "'i eat five apples.'"
      ]
     },
     "execution_count": 29,
     "metadata": {},
     "output_type": "execute_result"
    }
   ],
   "source": [
    "\"i eat {} apples.\".format(\"five\")"
   ]
  },
  {
   "cell_type": "code",
   "execution_count": 30,
   "id": "945104f0-6667-4580-ba3a-6c51a15349ca",
   "metadata": {},
   "outputs": [
    {
     "data": {
      "text/plain": [
       "'i eat 3 apples.'"
      ]
     },
     "execution_count": 30,
     "metadata": {},
     "output_type": "execute_result"
    }
   ],
   "source": [
    "number=3\n",
    "\"i eat {} apples.\".format(number)"
   ]
  },
  {
   "cell_type": "code",
   "execution_count": 31,
   "id": "e0a93acf-fabf-402f-943b-03be9807c1d3",
   "metadata": {},
   "outputs": [
    {
     "data": {
      "text/plain": [
       "'i eat 10 apples. so i was sick for three day.'"
      ]
     },
     "execution_count": 31,
     "metadata": {},
     "output_type": "execute_result"
    }
   ],
   "source": [
    "\"i eat {} apples. so i was sick for {} day.\" .format(10,\"three\")"
   ]
  },
  {
   "cell_type": "code",
   "execution_count": 32,
   "id": "39ed4d0b-e649-4422-9509-7ef988f9c903",
   "metadata": {},
   "outputs": [
    {
     "data": {
      "text/plain": [
       "'i eat three apples. so i was sick for 10 day.'"
      ]
     },
     "execution_count": 32,
     "metadata": {},
     "output_type": "execute_result"
    }
   ],
   "source": [
    "\"i eat {1} apples. so i was sick for {0} day.\" .format(10,\"three\")"
   ]
  },
  {
   "cell_type": "code",
   "execution_count": 35,
   "id": "fe78e0b8-0efc-4ff1-b829-b21db929e169",
   "metadata": {},
   "outputs": [
    {
     "data": {
      "text/plain": [
       "'i eat 10 apples. so i was sick for 3 day.'"
      ]
     },
     "execution_count": 35,
     "metadata": {},
     "output_type": "execute_result"
    }
   ],
   "source": [
    "number=10\n",
    "day=3\n",
    "\"i eat {number} apples. so i was sick for {day} day.\" .format(number=number,day=day)"
   ]
  },
  {
   "cell_type": "code",
   "execution_count": 39,
   "id": "d7db9461-6207-4a8f-8fcd-464a1663d7f9",
   "metadata": {},
   "outputs": [
    {
     "data": {
      "text/plain": [
       "'    hi    '"
      ]
     },
     "execution_count": 39,
     "metadata": {},
     "output_type": "execute_result"
    }
   ],
   "source": [
    "\"{:^10}\".format(\"hi\")"
   ]
  },
  {
   "cell_type": "code",
   "execution_count": 40,
   "id": "e01fbc17-03c4-483c-8e9f-053abe71340d",
   "metadata": {},
   "outputs": [
    {
     "data": {
      "text/plain": [
       "'hi!!!!!!!!'"
      ]
     },
     "execution_count": 40,
     "metadata": {},
     "output_type": "execute_result"
    }
   ],
   "source": [
    "\"{:!<10}\".format(\"hi\")"
   ]
  },
  {
   "cell_type": "code",
   "execution_count": 41,
   "id": "90097688-2288-46c8-9232-61dad251866c",
   "metadata": {},
   "outputs": [
    {
     "data": {
      "text/plain": [
       "'    3.4213'"
      ]
     },
     "execution_count": 41,
     "metadata": {},
     "output_type": "execute_result"
    }
   ],
   "source": [
    "\"{:10.4f}\".format(3.42134234)"
   ]
  },
  {
   "cell_type": "code",
   "execution_count": 42,
   "id": "c88e62b5-94d0-4be3-98cd-4e693ddb8e4b",
   "metadata": {},
   "outputs": [
    {
     "data": {
      "text/plain": [
       "'{and}'"
      ]
     },
     "execution_count": 42,
     "metadata": {},
     "output_type": "execute_result"
    }
   ],
   "source": [
    "\"{{and}}\".format()"
   ]
  },
  {
   "cell_type": "code",
   "execution_count": 43,
   "id": "cd52e599-0840-4ffd-b2ce-5a0975436670",
   "metadata": {},
   "outputs": [
    {
     "data": {
      "text/plain": [
       "'and'"
      ]
     },
     "execution_count": 43,
     "metadata": {},
     "output_type": "execute_result"
    }
   ],
   "source": [
    "\"{}\".format(\"and\")"
   ]
  },
  {
   "cell_type": "code",
   "execution_count": 45,
   "id": "a23dc834-b67d-471d-8774-8f10cc945519",
   "metadata": {},
   "outputs": [
    {
     "data": {
      "text/plain": [
       "'나의 이름은 김태훈입니다. 나이는 18입니다.'"
      ]
     },
     "execution_count": 45,
     "metadata": {},
     "output_type": "execute_result"
    }
   ],
   "source": [
    "name=\"김태훈\"\n",
    "age=18\n",
    "f\"나의 이름은 {name}입니다. 나이는 {age}입니다.\""
   ]
  },
  {
   "cell_type": "code",
   "execution_count": 46,
   "id": "ffcf85b2-40fa-427a-be8e-b0976482927e",
   "metadata": {},
   "outputs": [
    {
     "data": {
      "text/plain": [
       "'나는 내년에 19살이 됩니다.'"
      ]
     },
     "execution_count": 46,
     "metadata": {},
     "output_type": "execute_result"
    }
   ],
   "source": [
    "age=18\n",
    "f\"나는 내년에 {age+1}살이 됩니다.\""
   ]
  },
  {
   "cell_type": "code",
   "execution_count": 48,
   "id": "5aaac928-940a-4aee-a1ed-135ebabc1d93",
   "metadata": {},
   "outputs": [
    {
     "data": {
      "text/plain": [
       "'나의 이름은 김태훈입니다. 나이는 30입니다.'"
      ]
     },
     "execution_count": 48,
     "metadata": {},
     "output_type": "execute_result"
    }
   ],
   "source": [
    "d={\"name\":\"김태훈\",\"age\":30}\n",
    "f\"나의 이름은 {d[\"name\"]}입니다. 나이는 {d[\"age\"]}입니다.\""
   ]
  },
  {
   "cell_type": "code",
   "execution_count": 49,
   "id": "4b932dd6-58c5-41fd-a373-e9365e5ac324",
   "metadata": {},
   "outputs": [
    {
     "name": "stdout",
     "output_type": "stream",
     "text": [
      "====hi====\n"
     ]
    }
   ],
   "source": [
    "print(f\"{\"hi\":=^10}\")"
   ]
  },
  {
   "cell_type": "code",
   "execution_count": 50,
   "id": "4e40dca2-ffdb-4ce8-8129-0b7f34dbc485",
   "metadata": {},
   "outputs": [
    {
     "data": {
      "text/plain": [
       "'    3.4256'"
      ]
     },
     "execution_count": 50,
     "metadata": {},
     "output_type": "execute_result"
    }
   ],
   "source": [
    "f\"{3.42556768:10.4f}\""
   ]
  },
  {
   "cell_type": "markdown",
   "id": "2c31172e-075f-42e9-ac14-4a92ef38fd73",
   "metadata": {},
   "source": [
    "### 문자열 관련 함수들"
   ]
  },
  {
   "cell_type": "code",
   "execution_count": 52,
   "id": "6e90646e-b1e3-4911-8b6e-f0485f7116e2",
   "metadata": {},
   "outputs": [
    {
     "data": {
      "text/plain": [
       "2"
      ]
     },
     "execution_count": 52,
     "metadata": {},
     "output_type": "execute_result"
    }
   ],
   "source": [
    "\"hobby\".count(\"b\")"
   ]
  },
  {
   "cell_type": "code",
   "execution_count": 54,
   "id": "ba367014-072f-41ed-93c2-6f99415a8ce2",
   "metadata": {},
   "outputs": [
    {
     "data": {
      "text/plain": [
       "14"
      ]
     },
     "execution_count": 54,
     "metadata": {},
     "output_type": "execute_result"
    }
   ],
   "source": [
    "\"python is the best choice\".find(\"b\")"
   ]
  },
  {
   "cell_type": "code",
   "execution_count": 56,
   "id": "0b6f5921-0cfb-43ac-8b3f-75fbbca9a485",
   "metadata": {},
   "outputs": [
    {
     "data": {
      "text/plain": [
       "-1"
      ]
     },
     "execution_count": 56,
     "metadata": {},
     "output_type": "execute_result"
    }
   ],
   "source": [
    "\"python is the best choice\".find(\"k\")#찾는 문자가 없으면 -1을 반환함"
   ]
  },
  {
   "cell_type": "code",
   "execution_count": 59,
   "id": "109d2058-aecc-406d-9b7d-d987ec6b89d5",
   "metadata": {},
   "outputs": [
    {
     "data": {
      "text/plain": [
       "8"
      ]
     },
     "execution_count": 59,
     "metadata": {},
     "output_type": "execute_result"
    }
   ],
   "source": [
    "a=\"life is too short\"\n",
    "a.index(\"t\")"
   ]
  },
  {
   "cell_type": "code",
   "execution_count": 60,
   "id": "a7732626-edfe-4896-b382-e9bbe74a2003",
   "metadata": {},
   "outputs": [
    {
     "ename": "ValueError",
     "evalue": "substring not found",
     "output_type": "error",
     "traceback": [
      "\u001b[1;31m---------------------------------------------------------------------------\u001b[0m",
      "\u001b[1;31mValueError\u001b[0m                                Traceback (most recent call last)",
      "Cell \u001b[1;32mIn[60], line 1\u001b[0m\n\u001b[1;32m----> 1\u001b[0m a\u001b[38;5;241m.\u001b[39mindex(\u001b[38;5;124m\"\u001b[39m\u001b[38;5;124mk\u001b[39m\u001b[38;5;124m\"\u001b[39m)\n",
      "\u001b[1;31mValueError\u001b[0m: substring not found"
     ]
    }
   ],
   "source": [
    "a.index(\"k\")"
   ]
  },
  {
   "cell_type": "code",
   "execution_count": 62,
   "id": "96731e9b-bea1-4d8f-af41-a76cdde47f8c",
   "metadata": {},
   "outputs": [
    {
     "data": {
      "text/plain": [
       "'a,b,c,d'"
      ]
     },
     "execution_count": 62,
     "metadata": {},
     "output_type": "execute_result"
    }
   ],
   "source": [
    "\",\".join(\"abcd\")"
   ]
  },
  {
   "cell_type": "code",
   "execution_count": 69,
   "id": "2214f7b6-f9c8-4980-b281-e355878a3ecb",
   "metadata": {},
   "outputs": [
    {
     "name": "stdout",
     "output_type": "stream",
     "text": [
      "['a', 'b', 'c', 'd']\n",
      "<class 'list'>\n"
     ]
    }
   ],
   "source": [
    "list=[\"a\",\"b\",\"c\",\"d\"]\n",
    "print(list)\n",
    "print(type(list))"
   ]
  },
  {
   "cell_type": "code",
   "execution_count": 80,
   "id": "d712496a-3b6c-4db7-8ef8-83d07bb086de",
   "metadata": {},
   "outputs": [
    {
     "data": {
      "text/plain": [
       "'abcd'"
      ]
     },
     "execution_count": 80,
     "metadata": {},
     "output_type": "execute_result"
    }
   ],
   "source": [
    "\"\".join(list)"
   ]
  },
  {
   "cell_type": "code",
   "execution_count": 79,
   "id": "175f3d44-b249-4cb0-95f1-6b438031c0c8",
   "metadata": {},
   "outputs": [
    {
     "name": "stdout",
     "output_type": "stream",
     "text": [
      "a,b,c,d\n",
      "<class 'str'>\n"
     ]
    }
   ],
   "source": [
    "list_join=','.join(list)\n",
    "print(list_join)\n",
    "print(type(list_join))"
   ]
  },
  {
   "cell_type": "code",
   "execution_count": 72,
   "id": "2e167927-31cc-444f-bcc0-cc941ce434f0",
   "metadata": {},
   "outputs": [
    {
     "data": {
      "text/plain": [
       "'HI'"
      ]
     },
     "execution_count": 72,
     "metadata": {},
     "output_type": "execute_result"
    }
   ],
   "source": [
    "\"hi\".upper()"
   ]
  },
  {
   "cell_type": "code",
   "execution_count": 73,
   "id": "633f41b5-f8eb-4f59-b67a-ada927bf85b5",
   "metadata": {},
   "outputs": [
    {
     "data": {
      "text/plain": [
       "'hi'"
      ]
     },
     "execution_count": 73,
     "metadata": {},
     "output_type": "execute_result"
    }
   ],
   "source": [
    "'hi'.lower()"
   ]
  },
  {
   "cell_type": "code",
   "execution_count": 76,
   "id": "fae9c17a-2677-44b7-9eac-bf9fe23db5b3",
   "metadata": {},
   "outputs": [
    {
     "data": {
      "text/plain": [
       "'hi'"
      ]
     },
     "execution_count": 76,
     "metadata": {},
     "output_type": "execute_result"
    }
   ],
   "source": [
    "\" hi\".lstrip()\n"
   ]
  },
  {
   "cell_type": "code",
   "execution_count": 77,
   "id": "4e9486f9-4e1b-45bd-b090-04ec31bb6460",
   "metadata": {},
   "outputs": [
    {
     "data": {
      "text/plain": [
       "'hi'"
      ]
     },
     "execution_count": 77,
     "metadata": {},
     "output_type": "execute_result"
    }
   ],
   "source": [
    "\"hi \".rstrip()"
   ]
  },
  {
   "cell_type": "code",
   "execution_count": 78,
   "id": "4a9f55ea-23de-4e1a-a232-1e80ba36864c",
   "metadata": {},
   "outputs": [
    {
     "data": {
      "text/plain": [
       "'hi'"
      ]
     },
     "execution_count": 78,
     "metadata": {},
     "output_type": "execute_result"
    }
   ],
   "source": [
    "\"   hi    \".strip()"
   ]
  },
  {
   "cell_type": "code",
   "execution_count": 82,
   "id": "a799fa0c-26ae-4115-8db2-418a07708705",
   "metadata": {},
   "outputs": [
    {
     "data": {
      "text/plain": [
       "'your leg is too short'"
      ]
     },
     "execution_count": 82,
     "metadata": {},
     "output_type": "execute_result"
    }
   ],
   "source": [
    "\"life is too short\".replace(\"life\",\"your leg\")"
   ]
  },
  {
   "cell_type": "code",
   "execution_count": 84,
   "id": "4c324f55-5297-49e6-ac6e-34bbbebf2daf",
   "metadata": {},
   "outputs": [
    {
     "name": "stdout",
     "output_type": "stream",
     "text": [
      "['life', 'is', 'too', 'short']\n",
      "<class 'list'>\n"
     ]
    }
   ],
   "source": [
    "a=\"life is too short\"\n",
    "a.split()\n",
    "b=a.split()\n",
    "print(b)\n",
    "print(type(b))"
   ]
  },
  {
   "cell_type": "code",
   "execution_count": 85,
   "id": "4dc505e7-a29d-4726-911d-342f8c020523",
   "metadata": {},
   "outputs": [
    {
     "data": {
      "text/plain": [
       "['a', 'b', 'c', 'd']"
      ]
     },
     "execution_count": 85,
     "metadata": {},
     "output_type": "execute_result"
    }
   ],
   "source": [
    "c=\"a,b,c,d\"\n",
    "c.split(\",\")\n"
   ]
  },
  {
   "cell_type": "code",
   "execution_count": 86,
   "id": "3c5411b1-e503-48a4-932e-64daaec9bd65",
   "metadata": {},
   "outputs": [
    {
     "data": {
      "text/plain": [
       "'HI'"
      ]
     },
     "execution_count": 86,
     "metadata": {},
     "output_type": "execute_result"
    }
   ],
   "source": [
    "a='hi'\n",
    "a.upper()"
   ]
  },
  {
   "cell_type": "code",
   "execution_count": 87,
   "id": "2b45ece9-1ecb-425b-9583-10f95f082d50",
   "metadata": {},
   "outputs": [
    {
     "data": {
      "text/plain": [
       "'hi'"
      ]
     },
     "execution_count": 87,
     "metadata": {},
     "output_type": "execute_result"
    }
   ],
   "source": [
    "a"
   ]
  },
  {
   "cell_type": "code",
   "execution_count": 89,
   "id": "f068c8d0-026e-411d-abe1-15d85acfaafa",
   "metadata": {},
   "outputs": [
    {
     "data": {
      "text/plain": [
       "'HI'"
      ]
     },
     "execution_count": 89,
     "metadata": {},
     "output_type": "execute_result"
    }
   ],
   "source": [
    "a=a.upper()\n",
    "a"
   ]
  },
  {
   "cell_type": "code",
   "execution_count": 90,
   "id": "a203e930-e807-4512-befb-4de6c2e7662e",
   "metadata": {},
   "outputs": [
    {
     "data": {
      "text/plain": [
       "'HI'"
      ]
     },
     "execution_count": 90,
     "metadata": {},
     "output_type": "execute_result"
    }
   ],
   "source": [
    "a"
   ]
  },
  {
   "cell_type": "code",
   "execution_count": null,
   "id": "7ae37ad2-d9cc-4665-a065-8c165686f817",
   "metadata": {},
   "outputs": [],
   "source": []
  }
 ],
 "metadata": {
  "kernelspec": {
   "display_name": "Python [conda env:anaconda3]",
   "language": "python",
   "name": "conda-env-anaconda3-py"
  },
  "language_info": {
   "codemirror_mode": {
    "name": "ipython",
    "version": 3
   },
   "file_extension": ".py",
   "mimetype": "text/x-python",
   "name": "python",
   "nbconvert_exporter": "python",
   "pygments_lexer": "ipython3",
   "version": "3.13.5"
  }
 },
 "nbformat": 4,
 "nbformat_minor": 5
}

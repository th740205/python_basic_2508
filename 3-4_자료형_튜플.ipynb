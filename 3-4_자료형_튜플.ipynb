{
 "cells": [
  {
   "cell_type": "markdown",
   "id": "cf069980-79e7-4cd1-bdcd-af6003cf2d57",
   "metadata": {},
   "source": [
    "# 2.튜플의 요소값 지우거나 변경 하려고 하면 어떻게 될까"
   ]
  },
  {
   "cell_type": "code",
   "execution_count": 1,
   "id": "0cf2eca9-252d-492f-8851-94db13d0c667",
   "metadata": {},
   "outputs": [
    {
     "ename": "TypeError",
     "evalue": "'tuple' object doesn't support item deletion",
     "output_type": "error",
     "traceback": [
      "\u001b[1;31m---------------------------------------------------------------------------\u001b[0m",
      "\u001b[1;31mTypeError\u001b[0m                                 Traceback (most recent call last)",
      "Cell \u001b[1;32mIn[1], line 2\u001b[0m\n\u001b[0;32m      1\u001b[0m t1\u001b[38;5;241m=\u001b[39m(\u001b[38;5;241m1\u001b[39m,\u001b[38;5;241m2\u001b[39m,\u001b[38;5;124m'\u001b[39m\u001b[38;5;124ma\u001b[39m\u001b[38;5;124m'\u001b[39m,\u001b[38;5;124m'\u001b[39m\u001b[38;5;124mb\u001b[39m\u001b[38;5;124m'\u001b[39m)\n\u001b[1;32m----> 2\u001b[0m \u001b[38;5;28;01mdel\u001b[39;00m t1[\u001b[38;5;241m0\u001b[39m]\n",
      "\u001b[1;31mTypeError\u001b[0m: 'tuple' object doesn't support item deletion"
     ]
    }
   ],
   "source": [
    "t1=(1,2,'a','b')\n",
    "del t1[0]"
   ]
  },
  {
   "cell_type": "code",
   "execution_count": 2,
   "id": "24f73c80-7c79-43f5-979e-635431c1b4ca",
   "metadata": {},
   "outputs": [
    {
     "ename": "TypeError",
     "evalue": "'tuple' object does not support item assignment",
     "output_type": "error",
     "traceback": [
      "\u001b[1;31m---------------------------------------------------------------------------\u001b[0m",
      "\u001b[1;31mTypeError\u001b[0m                                 Traceback (most recent call last)",
      "Cell \u001b[1;32mIn[2], line 1\u001b[0m\n\u001b[1;32m----> 1\u001b[0m t1[\u001b[38;5;241m0\u001b[39m]\u001b[38;5;241m=\u001b[39m\u001b[38;5;241m5\u001b[39m\n",
      "\u001b[1;31mTypeError\u001b[0m: 'tuple' object does not support item assignment"
     ]
    }
   ],
   "source": [
    "t1[0]=5"
   ]
  },
  {
   "cell_type": "code",
   "execution_count": 3,
   "id": "42afde97-ccfb-4aa7-bc12-0de26c3b2187",
   "metadata": {},
   "outputs": [
    {
     "ename": "SyntaxError",
     "evalue": "invalid syntax (1484591932.py, line 1)",
     "output_type": "error",
     "traceback": [
      "\u001b[1;36m  Cell \u001b[1;32mIn[3], line 1\u001b[1;36m\u001b[0m\n\u001b[1;33m    t1=\u001b[0m\n\u001b[1;37m       ^\u001b[0m\n\u001b[1;31mSyntaxError\u001b[0m\u001b[1;31m:\u001b[0m invalid syntax\n"
     ]
    }
   ],
   "source": [
    "t1="
   ]
  },
  {
   "cell_type": "code",
   "execution_count": 5,
   "id": "0e7ce733-cd10-441a-a21c-575bb1542469",
   "metadata": {},
   "outputs": [
    {
     "name": "stdout",
     "output_type": "stream",
     "text": [
      "1\n",
      "2\n",
      "a\n",
      "b\n"
     ]
    }
   ],
   "source": [
    "t1=(1,2,'a','b')\n",
    "print(t1[0])\n",
    "print(t1[1])\n",
    "print(t1[2])\n",
    "print(t1[3])"
   ]
  },
  {
   "cell_type": "code",
   "execution_count": 6,
   "id": "d990c1c6-0c90-4d67-b62a-deb76f59433e",
   "metadata": {},
   "outputs": [
    {
     "data": {
      "text/plain": [
       "(2,)"
      ]
     },
     "execution_count": 6,
     "metadata": {},
     "output_type": "execute_result"
    }
   ],
   "source": [
    "t1[1:2]"
   ]
  },
  {
   "cell_type": "code",
   "execution_count": 7,
   "id": "1c5b7132-302f-4032-ae87-cc0652c9fa0d",
   "metadata": {},
   "outputs": [
    {
     "name": "stdout",
     "output_type": "stream",
     "text": [
      "(1, 2, 'a')\n"
     ]
    }
   ],
   "source": [
    "print(t1[:3])"
   ]
  },
  {
   "cell_type": "code",
   "execution_count": 9,
   "id": "d65005e8-5e06-4fc5-8eb9-c0caef2cfc64",
   "metadata": {},
   "outputs": [
    {
     "data": {
      "text/plain": [
       "(1, 2, 'a', 'b', 3, 4)"
      ]
     },
     "execution_count": 9,
     "metadata": {},
     "output_type": "execute_result"
    }
   ],
   "source": [
    "t2=(3,4)\n",
    "t3=t1+t2\n",
    "t3"
   ]
  },
  {
   "cell_type": "code",
   "execution_count": 11,
   "id": "b0766e69-feee-4250-b714-6a4e34b8079d",
   "metadata": {},
   "outputs": [
    {
     "data": {
      "text/plain": [
       "(3, 4, 3, 4)"
      ]
     },
     "execution_count": 11,
     "metadata": {},
     "output_type": "execute_result"
    }
   ],
   "source": [
    "t3=t2*2\n",
    "t3"
   ]
  },
  {
   "cell_type": "code",
   "execution_count": 12,
   "id": "9dd51e83-7d69-4161-93a2-8f2fd299b51e",
   "metadata": {},
   "outputs": [
    {
     "data": {
      "text/plain": [
       "4"
      ]
     },
     "execution_count": 12,
     "metadata": {},
     "output_type": "execute_result"
    }
   ],
   "source": [
    "len(t1)"
   ]
  },
  {
   "cell_type": "code",
   "execution_count": 13,
   "id": "2e16c00c-43de-4abd-86dd-929ad500ec45",
   "metadata": {},
   "outputs": [
    {
     "data": {
      "text/plain": [
       "2"
      ]
     },
     "execution_count": 13,
     "metadata": {},
     "output_type": "execute_result"
    }
   ],
   "source": [
    "len(t2)"
   ]
  },
  {
   "cell_type": "code",
   "execution_count": 14,
   "id": "1e5adbf5-572b-49be-9b37-7e2aae790f18",
   "metadata": {},
   "outputs": [
    {
     "data": {
      "text/plain": [
       "4"
      ]
     },
     "execution_count": 14,
     "metadata": {},
     "output_type": "execute_result"
    }
   ],
   "source": [
    "len(t3)"
   ]
  },
  {
   "cell_type": "code",
   "execution_count": 16,
   "id": "cab8d4cb-a284-4f01-8fbd-5a8f5cea05bf",
   "metadata": {},
   "outputs": [
    {
     "name": "stdout",
     "output_type": "stream",
     "text": [
      "<class 'tuple'>\n"
     ]
    }
   ],
   "source": [
    "print(type(t1))"
   ]
  },
  {
   "cell_type": "code",
   "execution_count": 18,
   "id": "c20a868b-ac2d-45e3-a8ed-8bf3bb53d9ce",
   "metadata": {},
   "outputs": [
    {
     "data": {
      "text/plain": [
       "tuple"
      ]
     },
     "execution_count": 18,
     "metadata": {},
     "output_type": "execute_result"
    }
   ],
   "source": [
    "t4=1,2,'a'\n",
    "type(t4)"
   ]
  },
  {
   "cell_type": "code",
   "execution_count": null,
   "id": "80c88f8c-af93-48d4-af2e-dd2a41e823a2",
   "metadata": {},
   "outputs": [],
   "source": []
  }
 ],
 "metadata": {
  "kernelspec": {
   "display_name": "Python [conda env:anaconda3]",
   "language": "python",
   "name": "conda-env-anaconda3-py"
  },
  "language_info": {
   "codemirror_mode": {
    "name": "ipython",
    "version": 3
   },
   "file_extension": ".py",
   "mimetype": "text/x-python",
   "name": "python",
   "nbconvert_exporter": "python",
   "pygments_lexer": "ipython3",
   "version": "3.13.5"
  }
 },
 "nbformat": 4,
 "nbformat_minor": 5
}

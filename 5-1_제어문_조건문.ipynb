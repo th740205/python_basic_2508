{
 "cells": [
  {
   "cell_type": "code",
   "execution_count": 9,
   "id": "d6badebb-ac4c-41eb-891c-cdee586475dd",
   "metadata": {},
   "outputs": [
    {
     "name": "stdout",
     "output_type": "stream",
     "text": [
      "택시를 \n",
      "타고\n"
     ]
    }
   ],
   "source": [
    "money=True\n",
    "if money:\n",
    "    print(\"택시를 \")\n",
    "    print(\"타고\")   "
   ]
  },
  {
   "cell_type": "code",
   "execution_count": 10,
   "id": "7c23103e-9e8d-488c-ba06-0df8ea1299ff",
   "metadata": {},
   "outputs": [
    {
     "name": "stdout",
     "output_type": "stream",
     "text": [
      "택시를 타고\n"
     ]
    }
   ],
   "source": [
    "if money:\n",
    "   print(\"택시를 타고\")"
   ]
  },
  {
   "cell_type": "code",
   "execution_count": 12,
   "id": "d173e9ac-1d69-429d-a029-9ec13f849bc7",
   "metadata": {},
   "outputs": [
    {
     "name": "stdout",
     "output_type": "stream",
     "text": [
      "True\n",
      "False\n",
      "False\n",
      "True\n"
     ]
    }
   ],
   "source": [
    "x=3\n",
    "y=2\n",
    "print(x>y)\n",
    "print(x<y)\n",
    "print(x==y)\n",
    "print(x!=y)"
   ]
  },
  {
   "cell_type": "code",
   "execution_count": 15,
   "id": "42052f3a-8ef6-4609-88f7-55c1565e4c10",
   "metadata": {},
   "outputs": [
    {
     "name": "stdout",
     "output_type": "stream",
     "text": [
      "택시를 타고 가라\n"
     ]
    }
   ],
   "source": [
    "money=3000\n",
    "if money >= 3000:\n",
    "    print('택시를 타고 가라')\n",
    "else:\n",
    "    print(\"걸어가라\")"
   ]
  },
  {
   "cell_type": "code",
   "execution_count": 20,
   "id": "b6fe8790-45b6-49ff-a8a8-d713b143d28e",
   "metadata": {},
   "outputs": [
    {
     "name": "stdout",
     "output_type": "stream",
     "text": [
      "택시를 타고 가라\n"
     ]
    }
   ],
   "source": [
    "money=2000\n",
    "card=True\n",
    "if money >= 3000 or card:\n",
    "    print('택시를 타고 가라')\n",
    "else:\n",
    "    print(\"걸어가라\")"
   ]
  },
  {
   "cell_type": "code",
   "execution_count": 21,
   "id": "4bf19fb2-3c3f-434b-8437-3667c043d2aa",
   "metadata": {},
   "outputs": [
    {
     "name": "stdout",
     "output_type": "stream",
     "text": [
      "택시를 타고 가라\n"
     ]
    }
   ],
   "source": [
    "# 논리 연산자\n",
    "money=2000\n",
    "card=True\n",
    "if money >= 3000 or card:\n",
    "    print('택시를 타고 가라')\n",
    "else:\n",
    "    print(\"걸어가라\")"
   ]
  },
  {
   "cell_type": "code",
   "execution_count": 23,
   "id": "9049aca7-c3be-411c-9ba5-da88ceed3172",
   "metadata": {},
   "outputs": [
    {
     "data": {
      "text/plain": [
       "True"
      ]
     },
     "execution_count": 23,
     "metadata": {},
     "output_type": "execute_result"
    }
   ],
   "source": [
    "1 in [1,2,3]"
   ]
  },
  {
   "cell_type": "code",
   "execution_count": 24,
   "id": "aef6b14f-e0cf-4d3d-89e5-cb714625d2e2",
   "metadata": {},
   "outputs": [
    {
     "data": {
      "text/plain": [
       "False"
      ]
     },
     "execution_count": 24,
     "metadata": {},
     "output_type": "execute_result"
    }
   ],
   "source": [
    "1 not in [1,2,3]"
   ]
  },
  {
   "cell_type": "code",
   "execution_count": 26,
   "id": "3e9fa72c-9d7f-4889-9516-0664ce314b6b",
   "metadata": {},
   "outputs": [
    {
     "name": "stdout",
     "output_type": "stream",
     "text": [
      "택시를 타고 가라\n"
     ]
    }
   ],
   "source": [
    "poket=['paper','cellphone','money']\n",
    "if 'money'in poket:\n",
    "    print(\"택시를 타고 가라\")\n",
    "else:\n",
    "    print('걸어가라')\n"
   ]
  },
  {
   "cell_type": "code",
   "execution_count": 33,
   "id": "46f94322-8733-4362-9e8b-cf675eeffa97",
   "metadata": {},
   "outputs": [
    {
     "name": "stdout",
     "output_type": "stream",
     "text": [
      "택시를 타고 가라\n"
     ]
    }
   ],
   "source": [
    "poket = ['paper','cellphone','money']\n",
    "if 'money'in poket:\n",
    "    pass\n",
    "    print('택시를 타고 가라')\n",
    "else:\n",
    "    print('카드를 꺼내라')"
   ]
  },
  {
   "cell_type": "code",
   "execution_count": 34,
   "id": "105bcf54-93c0-4b86-94e7-96e1f50d8c60",
   "metadata": {},
   "outputs": [
    {
     "name": "stdout",
     "output_type": "stream",
     "text": [
      "택시를 타고 가라\n"
     ]
    }
   ],
   "source": [
    "pocket = ['paper','cellphone','money']\n",
    "card=True\n",
    "if 'money'in pocket:\n",
    "    print('택시를 타고 가라')\n",
    "else:\n",
    "    if card:\n",
    "        print('택시를 타고 가라')\n",
    "    else:\n",
    "        print('걸어가라')\n"
   ]
  },
  {
   "cell_type": "code",
   "execution_count": 38,
   "id": "5b3ebeed-acfd-4469-a25b-7a8debcb3e0f",
   "metadata": {},
   "outputs": [
    {
     "name": "stdout",
     "output_type": "stream",
     "text": [
      "택시를 타고 가라\n"
     ]
    }
   ],
   "source": [
    "pocket = ['paper','cellphone','money']\n",
    "card=True\n",
    "if 'money'in pocket:\n",
    "    print('택시를 타고 가라')\n",
    "elif card:\n",
    "    print('택시를 타고 가라')\n",
    "else:\n",
    "    print('걸어가라')\n"
   ]
  },
  {
   "cell_type": "code",
   "execution_count": 40,
   "id": "8dc35edc-fb44-45e5-840c-ce24d6147628",
   "metadata": {},
   "outputs": [
    {
     "name": "stdout",
     "output_type": "stream",
     "text": [
      "b\n"
     ]
    }
   ],
   "source": [
    "math=80\n",
    "if math >=90:\n",
    "    print(\"a\")\n",
    "elif math >=80:\n",
    "    print(\"b\")\n",
    "elif math >=70:\n",
    "    print(\"c\")\n",
    "else:\n",
    "    print('f')\n",
    "    "
   ]
  },
  {
   "cell_type": "code",
   "execution_count": 41,
   "id": "bab07fe4-97d9-43c5-8240-1047c1286af5",
   "metadata": {},
   "outputs": [],
   "source": [
    "poket = ['paper','cellphone','money']\n",
    "if 'money'in poket: pass\n",
    "else: print('카드를 꺼내라')"
   ]
  },
  {
   "cell_type": "code",
   "execution_count": 42,
   "id": "dd6b5f56-e78f-4b15-a42e-365a493e5857",
   "metadata": {},
   "outputs": [
    {
     "name": "stdout",
     "output_type": "stream",
     "text": [
      "success\n"
     ]
    }
   ],
   "source": [
    "score=90\n",
    "if score >= 60:\n",
    "    masage='success'\n",
    "else:\n",
    "    masage='failure'\n",
    "print(masage)"
   ]
  },
  {
   "cell_type": "code",
   "execution_count": 44,
   "id": "4671354c-221c-4d43-ad16-2b286974626e",
   "metadata": {},
   "outputs": [
    {
     "name": "stdout",
     "output_type": "stream",
     "text": [
      "success\n"
     ]
    }
   ],
   "source": [
    "masage='success' if score >= 60 else 'failure'\n",
    "print(masage)"
   ]
  },
  {
   "cell_type": "code",
   "execution_count": null,
   "id": "c035a7c2-5822-4583-b6e9-b1efd0d71a1c",
   "metadata": {},
   "outputs": [],
   "source": []
  }
 ],
 "metadata": {
  "kernelspec": {
   "display_name": "Python [conda env:anaconda3]",
   "language": "python",
   "name": "conda-env-anaconda3-py"
  },
  "language_info": {
   "codemirror_mode": {
    "name": "ipython",
    "version": 3
   },
   "file_extension": ".py",
   "mimetype": "text/x-python",
   "name": "python",
   "nbconvert_exporter": "python",
   "pygments_lexer": "ipython3",
   "version": "3.13.5"
  }
 },
 "nbformat": 4,
 "nbformat_minor": 5
}

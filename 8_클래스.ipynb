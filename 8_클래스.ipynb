{
 "cells": [
  {
   "cell_type": "code",
   "execution_count": 2,
   "id": "c724439a-5171-4292-ad14-6e25b7141f6a",
   "metadata": {},
   "outputs": [
    {
     "name": "stdout",
     "output_type": "stream",
     "text": [
      "3\n",
      "7\n"
     ]
    }
   ],
   "source": [
    "result=0\n",
    "def add(num):\n",
    "    global result\n",
    "    result += num\n",
    "    return result\n",
    "print(add(3))\n",
    "print(add(4))"
   ]
  },
  {
   "cell_type": "code",
   "execution_count": 5,
   "id": "ba9252ab-3691-4067-b9ca-b668edbc1a9b",
   "metadata": {},
   "outputs": [
    {
     "name": "stdout",
     "output_type": "stream",
     "text": [
      "3\n",
      "7\n",
      "5\n",
      "11\n"
     ]
    }
   ],
   "source": [
    "res1=0\n",
    "res2=0\n",
    "def add1(num):\n",
    "    global res1\n",
    "    res1+=num\n",
    "    return res1\n",
    "def add2(num):\n",
    "    global res2\n",
    "    res2+=num\n",
    "    return res2\n",
    "print(add1(3))\n",
    "print(add1(4))\n",
    "print(add2(5))\n",
    "print(add2(6))"
   ]
  },
  {
   "cell_type": "code",
   "execution_count": 8,
   "id": "26c958ee-94db-4a13-9603-ba0cc5cd5212",
   "metadata": {},
   "outputs": [
    {
     "name": "stdout",
     "output_type": "stream",
     "text": [
      "3\n",
      "7\n",
      "5\n",
      "11\n"
     ]
    }
   ],
   "source": [
    "class Calculater:\n",
    "    def __init__(self):\n",
    "       self.result=0\n",
    "    def add(self,num):\n",
    "        self.result+=num\n",
    "        return self.result\n",
    "cal1=Calculater()\n",
    "cal2=Calculater()\n",
    "print(cal1.add(3))\n",
    "print(cal1.add(4))\n",
    "print(cal2.add(5))\n",
    "print(cal2.add(6))       \n",
    "    \n",
    "    "
   ]
  },
  {
   "cell_type": "code",
   "execution_count": 11,
   "id": "ed7772c5-a745-4c50-b7d8-3e80f0b86a72",
   "metadata": {},
   "outputs": [
    {
     "name": "stdout",
     "output_type": "stream",
     "text": [
      "3\n",
      "10\n",
      "2\n"
     ]
    }
   ],
   "source": [
    "class Calculater:\n",
    "    def __init__(self):\n",
    "       self.result=0\n",
    "    def add(self,num):\n",
    "        self.result+=num\n",
    "        return self.result\n",
    "    def sub(self,num):\n",
    "        self.result-=num\n",
    "        return self.result\n",
    "cal1=Calculater()\n",
    "print(cal1.add(3))\n",
    "print(cal1.add(7))\n",
    "print(cal1.sub(8))"
   ]
  },
  {
   "cell_type": "code",
   "execution_count": 12,
   "id": "79788b42-e124-48d0-9cf3-b6c054c25ddb",
   "metadata": {},
   "outputs": [],
   "source": [
    "class FourCal:\n",
    "    pass\n",
    "   "
   ]
  },
  {
   "cell_type": "code",
   "execution_count": 13,
   "id": "f0857054-6a99-4775-86e2-08bf5c0ddb3c",
   "metadata": {},
   "outputs": [
    {
     "data": {
      "text/plain": [
       "__main__.FourCal"
      ]
     },
     "execution_count": 13,
     "metadata": {},
     "output_type": "execute_result"
    }
   ],
   "source": [
    "a=FourCal()\n",
    "type(a)"
   ]
  },
  {
   "cell_type": "code",
   "execution_count": 14,
   "id": "c0b0eb70-b08a-47a6-a217-fb07051b4413",
   "metadata": {},
   "outputs": [],
   "source": [
    "class FourCal:\n",
    "    def setdata(self,x,y):\n",
    "        self.x=x\n",
    "        self.y=y\n",
    "        "
   ]
  },
  {
   "cell_type": "code",
   "execution_count": 15,
   "id": "67409624-d03f-4de3-8b02-57445f78016e",
   "metadata": {},
   "outputs": [
    {
     "name": "stdout",
     "output_type": "stream",
     "text": [
      "3 4\n"
     ]
    }
   ],
   "source": [
    "a=FourCal()\n",
    "a.setdata(3,4)\n",
    "print(a.x,a.y)\n"
   ]
  },
  {
   "cell_type": "code",
   "execution_count": 17,
   "id": "ac236e3d-76c5-4009-8f2b-136320b579ba",
   "metadata": {},
   "outputs": [
    {
     "name": "stdout",
     "output_type": "stream",
     "text": [
      "6\n",
      "2\n",
      "8\n",
      "2.0\n",
      "____________________\n",
      "11\n",
      "-5\n",
      "24\n",
      "0.375\n"
     ]
    }
   ],
   "source": [
    "class FourCal:\n",
    "    def setdata(self,x,y):\n",
    "        self.x=x\n",
    "        self.y=y\n",
    "    def add(self):\n",
    "        result=self.x+self.y\n",
    "        return result\n",
    "    def sub(self):\n",
    "        result=self.x-self.y\n",
    "        return result\n",
    "    def mul(self):\n",
    "        result=self.x*self.y\n",
    "        return result\n",
    "    def div(self):\n",
    "        result=self.x/self.y\n",
    "        return result\n",
    "cal1=FourCal()\n",
    "cal2=FourCal()\n",
    "cal1.setdata(4,2)\n",
    "cal2.setdata(3,8)\n",
    "\n",
    "print(cal1.add())\n",
    "print(cal1.sub())\n",
    "print(cal1.mul())\n",
    "print(cal1.div())\n",
    "print(\"_\"*20)\n",
    "print(cal2.add())\n",
    "print(cal2.sub())\n",
    "print(cal2.mul())\n",
    "print(cal2.div())"
   ]
  },
  {
   "cell_type": "code",
   "execution_count": 20,
   "id": "4d3f74fa-b5b8-4fea-9b8b-c4e8fce996aa",
   "metadata": {},
   "outputs": [],
   "source": [
    "class FourCal:\n",
    "    def __init__(self,x,y):   \n",
    "        self.x=x\n",
    "        self.y=y\n",
    "    def add(self):\n",
    "        result=self.x+self.y\n",
    "        return result\n",
    "    def sub(self):\n",
    "        result=self.x-self.y\n",
    "        return result\n",
    "    def mul(self):\n",
    "        result=self.x*self.y\n",
    "        return result\n",
    "    def div(self):\n",
    "        result=self.x/self.y\n",
    "        return result"
   ]
  },
  {
   "cell_type": "code",
   "execution_count": 21,
   "id": "3b8eb686-49e3-4d65-96b6-6df4cf587483",
   "metadata": {},
   "outputs": [],
   "source": [
    "calc1=FourCal(15,3)"
   ]
  },
  {
   "cell_type": "code",
   "execution_count": 22,
   "id": "f1c67011-4d06-4d06-87b2-d208a626340b",
   "metadata": {},
   "outputs": [
    {
     "name": "stdout",
     "output_type": "stream",
     "text": [
      "18\n",
      "12\n",
      "45\n",
      "5.0\n"
     ]
    }
   ],
   "source": [
    "print(calc1.add())\n",
    "print(calc1.sub())\n",
    "print(calc1.mul())\n",
    "print(calc1.div())"
   ]
  },
  {
   "cell_type": "code",
   "execution_count": 23,
   "id": "4b17cf43-8d56-4687-844f-3e0b11a50b67",
   "metadata": {},
   "outputs": [],
   "source": [
    "class MoreFourCal(FourCal):\n",
    "    pass \n",
    "    "
   ]
  },
  {
   "cell_type": "code",
   "execution_count": 24,
   "id": "a9d11d33-ede0-4886-8647-702574fc73b5",
   "metadata": {},
   "outputs": [],
   "source": [
    "cal1=MoreFourCal(4,2)"
   ]
  },
  {
   "cell_type": "code",
   "execution_count": 26,
   "id": "15a35d20-71c4-42a5-8f80-9765038d4e47",
   "metadata": {},
   "outputs": [
    {
     "name": "stdout",
     "output_type": "stream",
     "text": [
      "6\n",
      "2\n",
      "8\n",
      "2.0\n"
     ]
    }
   ],
   "source": [
    "print(cal1.add())\n",
    "print(cal1.sub())\n",
    "print(cal1.mul())\n",
    "print(cal1.div())"
   ]
  },
  {
   "cell_type": "code",
   "execution_count": 31,
   "id": "14ab3b96-63b1-411e-b6d0-12ca3d7bdf2b",
   "metadata": {},
   "outputs": [
    {
     "name": "stdout",
     "output_type": "stream",
     "text": [
      "6\n",
      "2\n",
      "8\n",
      "2.0\n",
      "16\n"
     ]
    }
   ],
   "source": [
    "class MoreFourCal(FourCal):\n",
    "    def pow(self):\n",
    "        result = self.x**self.y\n",
    "        return result\n",
    "cal2=MoreFourCal(4,2)\n",
    "print(cal2.add())\n",
    "print(cal2.sub())\n",
    "print(cal2.mul())\n",
    "print(cal2.div())\n",
    "print(cal2.pow())"
   ]
  },
  {
   "cell_type": "code",
   "execution_count": 44,
   "id": "573ad275-7dd6-4484-ad38-180c99cb6592",
   "metadata": {},
   "outputs": [],
   "source": [
    "class SafeFourCal(FourCal):\n",
    "    def div(self):\n",
    "        if self.y==0:\n",
    "            return 0\n",
    "        else:\n",
    "            result=self.x/self.y\n",
    "            return result\n",
    "    def pow(self):\n",
    "        if self.y==0:\n",
    "            return 0\n",
    "        else:\n",
    "            result=self.x**self.y\n",
    "            return result\n",
    "    "
   ]
  },
  {
   "cell_type": "code",
   "execution_count": 34,
   "id": "b0068e7c-c84c-4a07-8f7b-b69aabe800b0",
   "metadata": {},
   "outputs": [],
   "source": [
    "calc=SafeFourCal(4,0)"
   ]
  },
  {
   "cell_type": "code",
   "execution_count": 45,
   "id": "06a8b758-607c-45f6-bb30-5a3722f124d0",
   "metadata": {},
   "outputs": [
    {
     "name": "stdout",
     "output_type": "stream",
     "text": [
      "4\n",
      "4\n",
      "0\n",
      "0\n",
      "16\n"
     ]
    }
   ],
   "source": [
    "print(calc.add())\n",
    "print(calc.sub())\n",
    "print(calc.mul())\n",
    "print(calc.div())\n",
    "print(cal2.pow())"
   ]
  },
  {
   "cell_type": "code",
   "execution_count": 38,
   "id": "28343c8e-8ded-4741-b959-f2c96b5c71cb",
   "metadata": {},
   "outputs": [],
   "source": [
    "class Family():\n",
    "    lastname='김'\n",
    "    "
   ]
  },
  {
   "cell_type": "code",
   "execution_count": 39,
   "id": "99466355-c444-4d68-87c2-a432bfc1a45a",
   "metadata": {},
   "outputs": [
    {
     "name": "stdout",
     "output_type": "stream",
     "text": [
      "김\n",
      "김\n"
     ]
    }
   ],
   "source": [
    "a=Family()\n",
    "b=Family()\n",
    "print(a.lastname)\n",
    "print(b.lastname)"
   ]
  },
  {
   "cell_type": "code",
   "execution_count": 41,
   "id": "757ff1fc-e252-4acb-beee-dba4b3ef4fbe",
   "metadata": {},
   "outputs": [
    {
     "name": "stdout",
     "output_type": "stream",
     "text": [
      "박\n",
      "박\n"
     ]
    }
   ],
   "source": [
    "Family.lastname='박'\n",
    "print(a.lastname)\n",
    "print(b.lastname)"
   ]
  },
  {
   "cell_type": "code",
   "execution_count": 42,
   "id": "2a715515-a666-4302-99a9-71fd55db9439",
   "metadata": {},
   "outputs": [
    {
     "name": "stdout",
     "output_type": "stream",
     "text": [
      "최\n",
      "박\n"
     ]
    }
   ],
   "source": [
    "a.lastname='최'\n",
    "print(a.lastname)\n",
    "print(b.lastname)"
   ]
  },
  {
   "cell_type": "code",
   "execution_count": null,
   "id": "af6278af-b369-4bdb-84aa-7e163bea176c",
   "metadata": {},
   "outputs": [],
   "source": []
  }
 ],
 "metadata": {
  "kernelspec": {
   "display_name": "Python [conda env:anaconda3]",
   "language": "python",
   "name": "conda-env-anaconda3-py"
  },
  "language_info": {
   "codemirror_mode": {
    "name": "ipython",
    "version": 3
   },
   "file_extension": ".py",
   "mimetype": "text/x-python",
   "name": "python",
   "nbconvert_exporter": "python",
   "pygments_lexer": "ipython3",
   "version": "3.13.5"
  }
 },
 "nbformat": 4,
 "nbformat_minor": 5
}

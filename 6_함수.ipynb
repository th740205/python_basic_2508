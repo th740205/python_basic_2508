{
 "cells": [
  {
   "cell_type": "code",
   "execution_count": 2,
   "id": "53c29df0-e88f-4ccc-a5f9-de3dac7abad1",
   "metadata": {},
   "outputs": [
    {
     "name": "stdout",
     "output_type": "stream",
     "text": [
      "7\n",
      "333\n"
     ]
    }
   ],
   "source": [
    "def add(a,b):\n",
    "    return a+b\n",
    "a,b=3,4\n",
    "c= add(a,b)\n",
    "print(c)\n",
    "d=add(111,222)\n",
    "print(d)"
   ]
  },
  {
   "cell_type": "code",
   "execution_count": 4,
   "id": "c560aa1f-89a0-4f85-aa8c-c43b8b3b05d0",
   "metadata": {},
   "outputs": [
    {
     "name": "stdout",
     "output_type": "stream",
     "text": [
      "6\n"
     ]
    }
   ],
   "source": [
    "def minus(a,b):\n",
    "    result=a-b\n",
    "    return result\n",
    "a=minus(10,4)\n",
    "print(a)\n"
   ]
  },
  {
   "cell_type": "code",
   "execution_count": 5,
   "id": "7b89bf86-e30a-485f-9772-893f613ebbc9",
   "metadata": {},
   "outputs": [
    {
     "name": "stdout",
     "output_type": "stream",
     "text": [
      "Hi\n"
     ]
    }
   ],
   "source": [
    "def say():\n",
    "    return 'Hi'\n",
    "print(say())"
   ]
  },
  {
   "cell_type": "code",
   "execution_count": 6,
   "id": "5718e0cc-ed5f-4ffa-9c3d-4ae378cb59cc",
   "metadata": {},
   "outputs": [
    {
     "name": "stdout",
     "output_type": "stream",
     "text": [
      "12,24의 합은 36입니다.\n",
      "3,4의 합은 7입니다.\n",
      "None\n"
     ]
    }
   ],
   "source": [
    "def add(x,y):\n",
    "    print(\"%d,%d의 합은 %d입니다.\"%(x,y,x+y))\n",
    "add(12,24)\n",
    "a=add(3,4)\n",
    "print(a)\n"
   ]
  },
  {
   "cell_type": "code",
   "execution_count": 7,
   "id": "0ef148fd-92e4-443e-ae31-298754dbb78e",
   "metadata": {},
   "outputs": [
    {
     "name": "stdout",
     "output_type": "stream",
     "text": [
      "Hi\n"
     ]
    }
   ],
   "source": [
    "def say():\n",
    "    print('Hi')\n",
    "say()"
   ]
  },
  {
   "cell_type": "code",
   "execution_count": 8,
   "id": "0d8546f8-3296-4189-8656-f5f2238db1ab",
   "metadata": {},
   "outputs": [
    {
     "name": "stdout",
     "output_type": "stream",
     "text": [
      "-4\n",
      "4\n"
     ]
    }
   ],
   "source": [
    "def sub(a,b):\n",
    "    return a-b\n",
    "\n",
    "result=sub(3,7)\n",
    "print(result)\n",
    "result2=sub(b=3,a=7)\n",
    "print(result2)"
   ]
  },
  {
   "cell_type": "code",
   "execution_count": 9,
   "id": "9d7fded5-6018-48cd-8e45-f0fdaab835ec",
   "metadata": {},
   "outputs": [
    {
     "name": "stdout",
     "output_type": "stream",
     "text": [
      "15\n",
      "55\n"
     ]
    }
   ],
   "source": [
    "def add_many(*args):\n",
    "    result =0\n",
    "    for i in args:\n",
    "        result+=i\n",
    "    return result\n",
    "res1= add_many(1,2,3,4,5)\n",
    "print(res1)\n",
    "res2= add_many(1,2,3,4,5,6,7,8,9,10)\n",
    "print(res2)\n",
    "        \n",
    "    "
   ]
  },
  {
   "cell_type": "code",
   "execution_count": 12,
   "id": "2f9f6405-77b4-40cc-84a1-4db2525da803",
   "metadata": {},
   "outputs": [
    {
     "name": "stdout",
     "output_type": "stream",
     "text": [
      "6\n",
      "6\n"
     ]
    }
   ],
   "source": [
    "def add_mul(choice,*args):\n",
    "    if choice =='add':\n",
    "        result=0\n",
    "        for i in args:\n",
    "            result+=i\n",
    "    elif choice =='mul':\n",
    "        result=1\n",
    "        for i in args:\n",
    "            result*=i\n",
    "    return result\n",
    "res1=add_mul('add',1,2,3)\n",
    "print(res1)\n",
    "res2=add_mul('mul',1,2,3)\n",
    "print(res2)\n",
    "            \n",
    "    "
   ]
  },
  {
   "cell_type": "code",
   "execution_count": 15,
   "id": "15115e2e-3323-435e-8f2d-f9289cd41ece",
   "metadata": {},
   "outputs": [
    {
     "name": "stdout",
     "output_type": "stream",
     "text": [
      "{'a': 1}\n",
      "{'name': 'foo', 'age': 3}\n"
     ]
    }
   ],
   "source": [
    "def print_kwargs(**kwargs):\n",
    "    print(kwargs)\n",
    "print_kwargs(a=1)\n",
    "print_kwargs(name='foo',age=3)"
   ]
  },
  {
   "cell_type": "code",
   "execution_count": 19,
   "id": "463e70bf-3312-4a78-8fcd-4ea6c50b1b7e",
   "metadata": {},
   "outputs": [
    {
     "name": "stdout",
     "output_type": "stream",
     "text": [
      "(7, 12)\n",
      "a+b= 7\n",
      "a*b= 12\n"
     ]
    }
   ],
   "source": [
    "def add_and_mul(a,b):\n",
    "    return a+b,a*b\n",
    "res = add_and_mul(3,4)\n",
    "print(res)\n",
    "res1,res2=add_and_mul(3,4)\n",
    "print('a+b=',res1)\n",
    "print(\"a*b=\",res2)"
   ]
  },
  {
   "cell_type": "code",
   "execution_count": 20,
   "id": "526e5e71-02ea-4156-8894-10e5d823f667",
   "metadata": {},
   "outputs": [
    {
     "name": "stdout",
     "output_type": "stream",
     "text": [
      "나의 별명은 야호 입니다.\n"
     ]
    }
   ],
   "source": [
    "def say_nick(nick):\n",
    "    if nick=='바보':\n",
    "        return\n",
    "    print(\"나의 별명은 %s 입니다.\"%nick)\n",
    "say_nick('야호')\n",
    "    \n",
    "     "
   ]
  },
  {
   "cell_type": "code",
   "execution_count": 26,
   "id": "44115695-8495-45af-9d7a-87bbb41af194",
   "metadata": {},
   "outputs": [
    {
     "name": "stdout",
     "output_type": "stream",
     "text": [
      "나의 이름은 김태훈입니다.\n",
      "나이는 18살 입니다.\n",
      "남자\n",
      "나의 이름은 홍길동입니다.\n",
      "나이는 30살 입니다.\n",
      "여자\n"
     ]
    }
   ],
   "source": [
    "def say_myself(name,age,man=True):\n",
    "    print(f\"나의 이름은 {name}입니다.\")\n",
    "    print(f\"나이는 {age}살 입니다.\")\n",
    "    if man:\n",
    "        print(\"남자\")\n",
    "    else:\n",
    "        print(\"여자\")\n",
    "say_myself(\"김태훈\",18)\n",
    "say_myself(\"홍길동\",30,False)\n"
   ]
  },
  {
   "cell_type": "code",
   "execution_count": 34,
   "id": "2f1315b3-8da1-4163-950c-f5e35bee3c0c",
   "metadata": {},
   "outputs": [
    {
     "name": "stdout",
     "output_type": "stream",
     "text": [
      "2\n"
     ]
    }
   ],
   "source": [
    "a=1\n",
    "def vartest(a):\n",
    "    a=a+1\n",
    "    return a\n",
    "a = vartest(a)\n",
    "print(a)"
   ]
  },
  {
   "cell_type": "code",
   "execution_count": 35,
   "id": "f5ead4ed-0767-4604-9254-f60439f2006f",
   "metadata": {},
   "outputs": [
    {
     "name": "stdout",
     "output_type": "stream",
     "text": [
      "2\n"
     ]
    }
   ],
   "source": [
    "a=1\n",
    "def vartest():\n",
    "    global a\n",
    "    a+=1\n",
    "vartest()\n",
    "print(a)"
   ]
  },
  {
   "cell_type": "code",
   "execution_count": 36,
   "id": "496773f8-5cfc-4786-8c10-a5428e81c08d",
   "metadata": {},
   "outputs": [
    {
     "name": "stdout",
     "output_type": "stream",
     "text": [
      "7\n"
     ]
    }
   ],
   "source": [
    "def add(a,b):\n",
    "    return a+b\n",
    "print(add(3,4))\n",
    "    "
   ]
  },
  {
   "cell_type": "code",
   "execution_count": 37,
   "id": "380d603a-32e7-4e0d-aa6e-a2861d8d83b8",
   "metadata": {},
   "outputs": [
    {
     "name": "stdout",
     "output_type": "stream",
     "text": [
      "7\n"
     ]
    }
   ],
   "source": [
    "add=lambda a,b:a+b\n",
    "print(add(3,4))\n"
   ]
  },
  {
   "cell_type": "code",
   "execution_count": 48,
   "id": "3d132bd0-d951-472e-bd17-01b5658969c0",
   "metadata": {},
   "outputs": [
    {
     "name": "stdout",
     "output_type": "stream",
     "text": [
      "5!= 120\n"
     ]
    }
   ],
   "source": [
    "def factorial(n):\n",
    "    output =1 \n",
    "    for i in range(1,n+1):\n",
    "        output *=i\n",
    "    return output\n",
    "print(\"5!=\",factorial(5))\n"
   ]
  },
  {
   "cell_type": "code",
   "execution_count": 40,
   "id": "d18547f8-bb0f-4d97-8035-e369222cc757",
   "metadata": {},
   "outputs": [
    {
     "name": "stdout",
     "output_type": "stream",
     "text": [
      "5!= 120\n"
     ]
    }
   ],
   "source": [
    "def factorial(n):\n",
    "    if n==0:\n",
    "        return 1\n",
    "    else:\n",
    "        return n*f01)\n",
    "print(\"5!=\",factorial(5))"
   ]
  },
  {
   "cell_type": "code",
   "execution_count": 45,
   "id": "ea27a115-c4b5-4ac6-adb0-d872750105b6",
   "metadata": {},
   "outputs": [
    {
     "name": "stdout",
     "output_type": "stream",
     "text": [
      "4\n",
      "원본 : [[1, 2, 3], [4, [5, 6]], 7, [8, 9]]\n",
      "평탄화 : [1, 2, 3, 4, [5, 6], 7, 8, 9]\n"
     ]
    }
   ],
   "source": [
    "def flatten(data):\n",
    "    output =[]\n",
    "    for item in data:\n",
    "        if type(item)==list:\n",
    "            output+=item\n",
    "        else:\n",
    "            output.append(item)\n",
    "    return output\n",
    "example =[[1,2,3],[4,[5,6]],7,[8,9]]\n",
    "print(len(example))\n",
    "print('원본 :',example)\n",
    "print('평탄화 :',flatten(example))    "
   ]
  },
  {
   "cell_type": "code",
   "execution_count": 47,
   "id": "0d45eb45-68f1-43a0-8702-ac3aecac45de",
   "metadata": {},
   "outputs": [
    {
     "name": "stdout",
     "output_type": "stream",
     "text": [
      "원본 : [[1, 2, 3], [4, [5, 6]], 7, [8, 9]]\n",
      "평탄화 : [1, 2, 3, 4, 5, 6, 7, 8, 9]\n"
     ]
    }
   ],
   "source": [
    "def flatten(data):\n",
    "    output =[]\n",
    "    for item in data:\n",
    "        if type(item)==list:\n",
    "            output+=flatten(item)\n",
    "        else:\n",
    "            output.append(item)\n",
    "    return output\n",
    "example =[[1,2,3],[4,[5,6]],7,[8,9]]\n",
    "\n",
    "print('원본 :',example)\n",
    "print('평탄화 :',flatten(example))    "
   ]
  },
  {
   "cell_type": "code",
   "execution_count": 4,
   "id": "536964b6-dd03-4627-8646-eaed8f20c4f4",
   "metadata": {},
   "outputs": [
    {
     "name": "stdout",
     "output_type": "stream",
     "text": [
      "*******************\n",
      " *****************\n",
      "  ***************\n",
      "   *************\n",
      "    ***********\n",
      "     *********\n",
      "      *******\n",
      "       *****\n",
      "        ***\n",
      "         *\n",
      "\n"
     ]
    }
   ],
   "source": [
    "output=\"\"\n",
    "for i in range(10,0,-1):\n",
    "    for j in range(0,10-i):\n",
    "        output+=\" \"\n",
    "    for k in range(0,2*i-1):\n",
    "        output+=\"*\"\n",
    "    output+=\"\\n\"\n",
    "    \n",
    "print(output)\n",
    "        \n"
   ]
  },
  {
   "cell_type": "code",
   "execution_count": 10,
   "id": "6d1148f7-c95a-49a0-96af-89e35bd1c782",
   "metadata": {},
   "outputs": [
    {
     "name": "stdout",
     "output_type": "stream",
     "text": [
      "\n",
      "*\n",
      "***\n",
      "*****\n",
      "*******\n",
      "*********\n",
      "***********\n",
      "*************\n",
      "***************\n",
      "*****************\n",
      "\n"
     ]
    }
   ],
   "source": [
    "output=\"\"\n",
    "for i in range(0,10):\n",
    "    for j in range(0,i):\n",
    "        output+=\"*\"\n",
    "    for k in range(i-1,0,-1):\n",
    "        output+=\"*\"\n",
    "    output +=\"\\n\"\n",
    "    \n",
    "print(output)\n",
    "        \n"
   ]
  },
  {
   "cell_type": "code",
   "execution_count": 99,
   "id": "0ed32344-5887-4216-a5d7-3182fcdda847",
   "metadata": {},
   "outputs": [
    {
     "name": "stdout",
     "output_type": "stream",
     "text": [
      "\n",
      "*\n",
      "**\n",
      "***\n",
      "****\n",
      "*****\n",
      "******\n",
      "*******\n",
      "********\n",
      "*********\n",
      "\n"
     ]
    }
   ],
   "source": [
    "output=\"\"\n",
    "for i in range(0,10):\n",
    "    for j in range(0,i):\n",
    "        output+=\"*\"\n",
    "    output +=\"\\n\"\n",
    "\n",
    "    \n",
    "print(output)"
   ]
  },
  {
   "cell_type": "code",
   "execution_count": 1,
   "id": "d84d117f-b6a2-4c90-a8d5-8418950bed78",
   "metadata": {},
   "outputs": [
    {
     "name": "stdout",
     "output_type": "stream",
     "text": [
      "          \n",
      "         *\n",
      "        **\n",
      "       ***\n",
      "      ****\n",
      "     *****\n",
      "    ******\n",
      "   *******\n",
      "  ********\n",
      " *********\n",
      "\n"
     ]
    }
   ],
   "source": [
    "output=\"\"\n",
    "for i in range(10,0,-1):\n",
    "    for j in range(0,i):\n",
    "        output+=\" \"\n",
    "    for k in range(0,10-i):\n",
    "        output+=\"*\"\n",
    "    output+=\"\\n\"\n",
    "    \n",
    "print(output)\n",
    "        \n"
   ]
  },
  {
   "cell_type": "code",
   "execution_count": 2,
   "id": "1dbade5c-a7e5-4655-9a05-46fe0bf9213d",
   "metadata": {},
   "outputs": [
    {
     "name": "stdout",
     "output_type": "stream",
     "text": [
      "*********\n",
      " ********\n",
      "  *******\n",
      "   ******\n",
      "    *****\n",
      "     ****\n",
      "      ***\n",
      "       **\n",
      "        *\n",
      "\n"
     ]
    }
   ],
   "source": [
    "output=\"\"\n",
    "for i in range(9,0,-1):\n",
    "    for j in range(0,9-i):\n",
    "        output+=\" \"\n",
    "    for k in range(0,i):\n",
    "        output+=\"*\"\n",
    "    output+=\"\\n\"\n",
    "    \n",
    "print(output)\n",
    "        "
   ]
  },
  {
   "cell_type": "code",
   "execution_count": 7,
   "id": "a6cfe7af-a51f-4c33-89ff-5242e9d1efe7",
   "metadata": {},
   "outputs": [
    {
     "name": "stdout",
     "output_type": "stream",
     "text": [
      "*********\n",
      "********\n",
      "*******\n",
      "******\n",
      "*****\n",
      "****\n",
      "***\n",
      "**\n",
      "*\n",
      "\n",
      "\n"
     ]
    }
   ],
   "source": [
    "output=\"\"\n",
    "for i in range(0,10):\n",
    "    for j in range(9,i,-1):\n",
    "        output+=\"*\"\n",
    "    output +=\"\\n\"\n",
    "\n",
    "    \n",
    "print(output)"
   ]
  },
  {
   "cell_type": "code",
   "execution_count": null,
   "id": "e725b254-a038-4260-985d-6a6cbebc69de",
   "metadata": {},
   "outputs": [],
   "source": []
  }
 ],
 "metadata": {
  "kernelspec": {
   "display_name": "Python [conda env:anaconda3]",
   "language": "python",
   "name": "conda-env-anaconda3-py"
  },
  "language_info": {
   "codemirror_mode": {
    "name": "ipython",
    "version": 3
   },
   "file_extension": ".py",
   "mimetype": "text/x-python",
   "name": "python",
   "nbconvert_exporter": "python",
   "pygments_lexer": "ipython3",
   "version": "3.13.5"
  }
 },
 "nbformat": 4,
 "nbformat_minor": 5
}

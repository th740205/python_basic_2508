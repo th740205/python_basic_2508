{
 "cells": [
  {
   "cell_type": "code",
   "execution_count": 1,
   "id": "333f85b4-100f-4a7b-9eff-1fb13c00ed68",
   "metadata": {},
   "outputs": [
    {
     "name": "stdout",
     "output_type": "stream",
     "text": [
      "hello python!!\n"
     ]
    }
   ],
   "source": [
    "print('hello python!!')"
   ]
  },
  {
   "cell_type": "code",
   "execution_count": null,
   "id": "17b8bfd6-4322-4ab4-9e94-edbc45d2440e",
   "metadata": {},
   "outputs": [],
   "source": []
  }
 ],
 "metadata": {
  "kernelspec": {
   "display_name": "Python [conda env:anaconda3]",
   "language": "python",
   "name": "conda-env-anaconda3-py"
  },
  "language_info": {
   "codemirror_mode": {
    "name": "ipython",
    "version": 3
   },
   "file_extension": ".py",
   "mimetype": "text/x-python",
   "name": "python",
   "nbconvert_exporter": "python",
   "pygments_lexer": "ipython3",
   "version": "3.13.5"
  }
 },
 "nbformat": 4,
 "nbformat_minor": 5
}
